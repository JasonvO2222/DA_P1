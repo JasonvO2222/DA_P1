{
 "cells": [
  {
   "cell_type": "code",
   "execution_count": 1,
   "metadata": {},
   "outputs": [],
   "source": [
    "#imports\n",
    "import pandas as pd \n",
    "import plotly as pl\n",
    "import plotly.express as px\n",
    "import plotly.graph_objects as go\n",
    "import seaborn as sns\n",
    "import sklearn as sk\n",
    "import matplotlib.pyplot as plt\n",
    "from sklearn.feature_selection import SelectKBest, f_classif"
   ]
  },
  {
   "cell_type": "code",
   "execution_count": 2,
   "metadata": {},
   "outputs": [],
   "source": [
    "# TASK 1 : import dataset\n",
    "DATA = pd.read_csv(\"mammographic_masses_data.csv\")\n"
   ]
  },
  {
   "cell_type": "code",
   "execution_count": 7,
   "metadata": {},
   "outputs": [
    {
     "name": "stdout",
     "output_type": "stream",
     "text": [
      "               BA         Age       Shape      Margin     Density    Severity\n",
      "count  959.000000  956.000000  930.000000  913.000000  885.000000  961.000000\n",
      "mean     4.300313   55.487448    2.721505    2.796276    2.910734    0.463059\n",
      "std      0.683469   14.480131    1.242792    1.566546    0.380444    0.498893\n",
      "min      0.000000   18.000000    1.000000    1.000000    1.000000    0.000000\n",
      "25%      4.000000   45.000000    2.000000    1.000000    3.000000    0.000000\n",
      "50%      4.000000   57.000000    3.000000    3.000000    3.000000    0.000000\n",
      "75%      5.000000   66.000000    4.000000    4.000000    3.000000    1.000000\n",
      "max      6.000000   96.000000    4.000000    5.000000    4.000000    1.000000\n",
      "Severity\n",
      "0    516\n",
      "1    445\n",
      "Name: count, dtype: int64\n",
      "0      5.0\n",
      "1      1.0\n",
      "2      5.0\n",
      "4      5.0\n",
      "8      5.0\n",
      "      ... \n",
      "951    5.0\n",
      "952    4.0\n",
      "955    4.0\n",
      "957    5.0\n",
      "959    5.0\n",
      "Name: Margin, Length: 445, dtype: float64\n"
     ]
    },
    {
     "data": {
      "application/vnd.plotly.v1+json": {
       "config": {
        "plotlyServerURL": "https://plot.ly"
       },
       "data": [
        {
         "coloraxis": "coloraxis",
         "hovertemplate": "Features: %{x}<br>Features: %{y}<br>Correlation: %{z}<extra></extra>",
         "name": "0",
         "texttemplate": "%{z}",
         "type": "heatmap",
         "x": [
          "BA",
          "Age",
          "Density",
          "Severity"
         ],
         "xaxis": "x",
         "y": [
          "BA",
          "Age",
          "Density",
          "Severity"
         ],
         "yaxis": "y",
         "z": [
          [
           1,
           0.30298612598005126,
           0.08672057143488753,
           0.5255145947894436
          ],
          [
           0.30298612598005126,
           1,
           0.028954493239569133,
           0.43206623712703535
          ],
          [
           0.08672057143488753,
           0.028954493239569133,
           1,
           0.06401011112229797
          ],
          [
           0.5255145947894436,
           0.43206623712703535,
           0.06401011112229797,
           1
          ]
         ]
        }
       ],
       "layout": {
        "coloraxis": {
         "cmax": 1,
         "cmin": -1,
         "colorbar": {
          "title": {
           "text": "Correlation"
          }
         },
         "colorscale": [
          [
           0,
           "rgb(103,0,31)"
          ],
          [
           0.1,
           "rgb(178,24,43)"
          ],
          [
           0.2,
           "rgb(214,96,77)"
          ],
          [
           0.3,
           "rgb(244,165,130)"
          ],
          [
           0.4,
           "rgb(253,219,199)"
          ],
          [
           0.5,
           "rgb(247,247,247)"
          ],
          [
           0.6,
           "rgb(209,229,240)"
          ],
          [
           0.7,
           "rgb(146,197,222)"
          ],
          [
           0.8,
           "rgb(67,147,195)"
          ],
          [
           0.9,
           "rgb(33,102,172)"
          ],
          [
           1,
           "rgb(5,48,97)"
          ]
         ]
        },
        "template": {
         "data": {
          "bar": [
           {
            "error_x": {
             "color": "#2a3f5f"
            },
            "error_y": {
             "color": "#2a3f5f"
            },
            "marker": {
             "line": {
              "color": "#E5ECF6",
              "width": 0.5
             },
             "pattern": {
              "fillmode": "overlay",
              "size": 10,
              "solidity": 0.2
             }
            },
            "type": "bar"
           }
          ],
          "barpolar": [
           {
            "marker": {
             "line": {
              "color": "#E5ECF6",
              "width": 0.5
             },
             "pattern": {
              "fillmode": "overlay",
              "size": 10,
              "solidity": 0.2
             }
            },
            "type": "barpolar"
           }
          ],
          "carpet": [
           {
            "aaxis": {
             "endlinecolor": "#2a3f5f",
             "gridcolor": "white",
             "linecolor": "white",
             "minorgridcolor": "white",
             "startlinecolor": "#2a3f5f"
            },
            "baxis": {
             "endlinecolor": "#2a3f5f",
             "gridcolor": "white",
             "linecolor": "white",
             "minorgridcolor": "white",
             "startlinecolor": "#2a3f5f"
            },
            "type": "carpet"
           }
          ],
          "choropleth": [
           {
            "colorbar": {
             "outlinewidth": 0,
             "ticks": ""
            },
            "type": "choropleth"
           }
          ],
          "contour": [
           {
            "colorbar": {
             "outlinewidth": 0,
             "ticks": ""
            },
            "colorscale": [
             [
              0,
              "#0d0887"
             ],
             [
              0.1111111111111111,
              "#46039f"
             ],
             [
              0.2222222222222222,
              "#7201a8"
             ],
             [
              0.3333333333333333,
              "#9c179e"
             ],
             [
              0.4444444444444444,
              "#bd3786"
             ],
             [
              0.5555555555555556,
              "#d8576b"
             ],
             [
              0.6666666666666666,
              "#ed7953"
             ],
             [
              0.7777777777777778,
              "#fb9f3a"
             ],
             [
              0.8888888888888888,
              "#fdca26"
             ],
             [
              1,
              "#f0f921"
             ]
            ],
            "type": "contour"
           }
          ],
          "contourcarpet": [
           {
            "colorbar": {
             "outlinewidth": 0,
             "ticks": ""
            },
            "type": "contourcarpet"
           }
          ],
          "heatmap": [
           {
            "colorbar": {
             "outlinewidth": 0,
             "ticks": ""
            },
            "colorscale": [
             [
              0,
              "#0d0887"
             ],
             [
              0.1111111111111111,
              "#46039f"
             ],
             [
              0.2222222222222222,
              "#7201a8"
             ],
             [
              0.3333333333333333,
              "#9c179e"
             ],
             [
              0.4444444444444444,
              "#bd3786"
             ],
             [
              0.5555555555555556,
              "#d8576b"
             ],
             [
              0.6666666666666666,
              "#ed7953"
             ],
             [
              0.7777777777777778,
              "#fb9f3a"
             ],
             [
              0.8888888888888888,
              "#fdca26"
             ],
             [
              1,
              "#f0f921"
             ]
            ],
            "type": "heatmap"
           }
          ],
          "heatmapgl": [
           {
            "colorbar": {
             "outlinewidth": 0,
             "ticks": ""
            },
            "colorscale": [
             [
              0,
              "#0d0887"
             ],
             [
              0.1111111111111111,
              "#46039f"
             ],
             [
              0.2222222222222222,
              "#7201a8"
             ],
             [
              0.3333333333333333,
              "#9c179e"
             ],
             [
              0.4444444444444444,
              "#bd3786"
             ],
             [
              0.5555555555555556,
              "#d8576b"
             ],
             [
              0.6666666666666666,
              "#ed7953"
             ],
             [
              0.7777777777777778,
              "#fb9f3a"
             ],
             [
              0.8888888888888888,
              "#fdca26"
             ],
             [
              1,
              "#f0f921"
             ]
            ],
            "type": "heatmapgl"
           }
          ],
          "histogram": [
           {
            "marker": {
             "pattern": {
              "fillmode": "overlay",
              "size": 10,
              "solidity": 0.2
             }
            },
            "type": "histogram"
           }
          ],
          "histogram2d": [
           {
            "colorbar": {
             "outlinewidth": 0,
             "ticks": ""
            },
            "colorscale": [
             [
              0,
              "#0d0887"
             ],
             [
              0.1111111111111111,
              "#46039f"
             ],
             [
              0.2222222222222222,
              "#7201a8"
             ],
             [
              0.3333333333333333,
              "#9c179e"
             ],
             [
              0.4444444444444444,
              "#bd3786"
             ],
             [
              0.5555555555555556,
              "#d8576b"
             ],
             [
              0.6666666666666666,
              "#ed7953"
             ],
             [
              0.7777777777777778,
              "#fb9f3a"
             ],
             [
              0.8888888888888888,
              "#fdca26"
             ],
             [
              1,
              "#f0f921"
             ]
            ],
            "type": "histogram2d"
           }
          ],
          "histogram2dcontour": [
           {
            "colorbar": {
             "outlinewidth": 0,
             "ticks": ""
            },
            "colorscale": [
             [
              0,
              "#0d0887"
             ],
             [
              0.1111111111111111,
              "#46039f"
             ],
             [
              0.2222222222222222,
              "#7201a8"
             ],
             [
              0.3333333333333333,
              "#9c179e"
             ],
             [
              0.4444444444444444,
              "#bd3786"
             ],
             [
              0.5555555555555556,
              "#d8576b"
             ],
             [
              0.6666666666666666,
              "#ed7953"
             ],
             [
              0.7777777777777778,
              "#fb9f3a"
             ],
             [
              0.8888888888888888,
              "#fdca26"
             ],
             [
              1,
              "#f0f921"
             ]
            ],
            "type": "histogram2dcontour"
           }
          ],
          "mesh3d": [
           {
            "colorbar": {
             "outlinewidth": 0,
             "ticks": ""
            },
            "type": "mesh3d"
           }
          ],
          "parcoords": [
           {
            "line": {
             "colorbar": {
              "outlinewidth": 0,
              "ticks": ""
             }
            },
            "type": "parcoords"
           }
          ],
          "pie": [
           {
            "automargin": true,
            "type": "pie"
           }
          ],
          "scatter": [
           {
            "fillpattern": {
             "fillmode": "overlay",
             "size": 10,
             "solidity": 0.2
            },
            "type": "scatter"
           }
          ],
          "scatter3d": [
           {
            "line": {
             "colorbar": {
              "outlinewidth": 0,
              "ticks": ""
             }
            },
            "marker": {
             "colorbar": {
              "outlinewidth": 0,
              "ticks": ""
             }
            },
            "type": "scatter3d"
           }
          ],
          "scattercarpet": [
           {
            "marker": {
             "colorbar": {
              "outlinewidth": 0,
              "ticks": ""
             }
            },
            "type": "scattercarpet"
           }
          ],
          "scattergeo": [
           {
            "marker": {
             "colorbar": {
              "outlinewidth": 0,
              "ticks": ""
             }
            },
            "type": "scattergeo"
           }
          ],
          "scattergl": [
           {
            "marker": {
             "colorbar": {
              "outlinewidth": 0,
              "ticks": ""
             }
            },
            "type": "scattergl"
           }
          ],
          "scattermapbox": [
           {
            "marker": {
             "colorbar": {
              "outlinewidth": 0,
              "ticks": ""
             }
            },
            "type": "scattermapbox"
           }
          ],
          "scatterpolar": [
           {
            "marker": {
             "colorbar": {
              "outlinewidth": 0,
              "ticks": ""
             }
            },
            "type": "scatterpolar"
           }
          ],
          "scatterpolargl": [
           {
            "marker": {
             "colorbar": {
              "outlinewidth": 0,
              "ticks": ""
             }
            },
            "type": "scatterpolargl"
           }
          ],
          "scatterternary": [
           {
            "marker": {
             "colorbar": {
              "outlinewidth": 0,
              "ticks": ""
             }
            },
            "type": "scatterternary"
           }
          ],
          "surface": [
           {
            "colorbar": {
             "outlinewidth": 0,
             "ticks": ""
            },
            "colorscale": [
             [
              0,
              "#0d0887"
             ],
             [
              0.1111111111111111,
              "#46039f"
             ],
             [
              0.2222222222222222,
              "#7201a8"
             ],
             [
              0.3333333333333333,
              "#9c179e"
             ],
             [
              0.4444444444444444,
              "#bd3786"
             ],
             [
              0.5555555555555556,
              "#d8576b"
             ],
             [
              0.6666666666666666,
              "#ed7953"
             ],
             [
              0.7777777777777778,
              "#fb9f3a"
             ],
             [
              0.8888888888888888,
              "#fdca26"
             ],
             [
              1,
              "#f0f921"
             ]
            ],
            "type": "surface"
           }
          ],
          "table": [
           {
            "cells": {
             "fill": {
              "color": "#EBF0F8"
             },
             "line": {
              "color": "white"
             }
            },
            "header": {
             "fill": {
              "color": "#C8D4E3"
             },
             "line": {
              "color": "white"
             }
            },
            "type": "table"
           }
          ]
         },
         "layout": {
          "annotationdefaults": {
           "arrowcolor": "#2a3f5f",
           "arrowhead": 0,
           "arrowwidth": 1
          },
          "autotypenumbers": "strict",
          "coloraxis": {
           "colorbar": {
            "outlinewidth": 0,
            "ticks": ""
           }
          },
          "colorscale": {
           "diverging": [
            [
             0,
             "#8e0152"
            ],
            [
             0.1,
             "#c51b7d"
            ],
            [
             0.2,
             "#de77ae"
            ],
            [
             0.3,
             "#f1b6da"
            ],
            [
             0.4,
             "#fde0ef"
            ],
            [
             0.5,
             "#f7f7f7"
            ],
            [
             0.6,
             "#e6f5d0"
            ],
            [
             0.7,
             "#b8e186"
            ],
            [
             0.8,
             "#7fbc41"
            ],
            [
             0.9,
             "#4d9221"
            ],
            [
             1,
             "#276419"
            ]
           ],
           "sequential": [
            [
             0,
             "#0d0887"
            ],
            [
             0.1111111111111111,
             "#46039f"
            ],
            [
             0.2222222222222222,
             "#7201a8"
            ],
            [
             0.3333333333333333,
             "#9c179e"
            ],
            [
             0.4444444444444444,
             "#bd3786"
            ],
            [
             0.5555555555555556,
             "#d8576b"
            ],
            [
             0.6666666666666666,
             "#ed7953"
            ],
            [
             0.7777777777777778,
             "#fb9f3a"
            ],
            [
             0.8888888888888888,
             "#fdca26"
            ],
            [
             1,
             "#f0f921"
            ]
           ],
           "sequentialminus": [
            [
             0,
             "#0d0887"
            ],
            [
             0.1111111111111111,
             "#46039f"
            ],
            [
             0.2222222222222222,
             "#7201a8"
            ],
            [
             0.3333333333333333,
             "#9c179e"
            ],
            [
             0.4444444444444444,
             "#bd3786"
            ],
            [
             0.5555555555555556,
             "#d8576b"
            ],
            [
             0.6666666666666666,
             "#ed7953"
            ],
            [
             0.7777777777777778,
             "#fb9f3a"
            ],
            [
             0.8888888888888888,
             "#fdca26"
            ],
            [
             1,
             "#f0f921"
            ]
           ]
          },
          "colorway": [
           "#636efa",
           "#EF553B",
           "#00cc96",
           "#ab63fa",
           "#FFA15A",
           "#19d3f3",
           "#FF6692",
           "#B6E880",
           "#FF97FF",
           "#FECB52"
          ],
          "font": {
           "color": "#2a3f5f"
          },
          "geo": {
           "bgcolor": "white",
           "lakecolor": "white",
           "landcolor": "#E5ECF6",
           "showlakes": true,
           "showland": true,
           "subunitcolor": "white"
          },
          "hoverlabel": {
           "align": "left"
          },
          "hovermode": "closest",
          "mapbox": {
           "style": "light"
          },
          "paper_bgcolor": "white",
          "plot_bgcolor": "#E5ECF6",
          "polar": {
           "angularaxis": {
            "gridcolor": "white",
            "linecolor": "white",
            "ticks": ""
           },
           "bgcolor": "#E5ECF6",
           "radialaxis": {
            "gridcolor": "white",
            "linecolor": "white",
            "ticks": ""
           }
          },
          "scene": {
           "xaxis": {
            "backgroundcolor": "#E5ECF6",
            "gridcolor": "white",
            "gridwidth": 2,
            "linecolor": "white",
            "showbackground": true,
            "ticks": "",
            "zerolinecolor": "white"
           },
           "yaxis": {
            "backgroundcolor": "#E5ECF6",
            "gridcolor": "white",
            "gridwidth": 2,
            "linecolor": "white",
            "showbackground": true,
            "ticks": "",
            "zerolinecolor": "white"
           },
           "zaxis": {
            "backgroundcolor": "#E5ECF6",
            "gridcolor": "white",
            "gridwidth": 2,
            "linecolor": "white",
            "showbackground": true,
            "ticks": "",
            "zerolinecolor": "white"
           }
          },
          "shapedefaults": {
           "line": {
            "color": "#2a3f5f"
           }
          },
          "ternary": {
           "aaxis": {
            "gridcolor": "white",
            "linecolor": "white",
            "ticks": ""
           },
           "baxis": {
            "gridcolor": "white",
            "linecolor": "white",
            "ticks": ""
           },
           "bgcolor": "#E5ECF6",
           "caxis": {
            "gridcolor": "white",
            "linecolor": "white",
            "ticks": ""
           }
          },
          "title": {
           "x": 0.05
          },
          "xaxis": {
           "automargin": true,
           "gridcolor": "white",
           "linecolor": "white",
           "ticks": "",
           "title": {
            "standoff": 15
           },
           "zerolinecolor": "white",
           "zerolinewidth": 2
          },
          "yaxis": {
           "automargin": true,
           "gridcolor": "white",
           "linecolor": "white",
           "ticks": "",
           "title": {
            "standoff": 15
           },
           "zerolinecolor": "white",
           "zerolinewidth": 2
          }
         }
        },
        "title": {
         "text": "Correlation Heatmap of All Ordinal/Numerical Features"
        },
        "xaxis": {
         "anchor": "y",
         "constrain": "domain",
         "domain": [
          0,
          1
         ],
         "scaleanchor": "y",
         "title": {
          "text": "Features"
         }
        },
        "yaxis": {
         "anchor": "x",
         "autorange": "reversed",
         "constrain": "domain",
         "domain": [
          0,
          1
         ],
         "title": {
          "text": "Features"
         }
        }
       }
      }
     },
     "metadata": {},
     "output_type": "display_data"
    },
    {
     "data": {
      "application/vnd.plotly.v1+json": {
       "config": {
        "plotlyServerURL": "https://plot.ly"
       },
       "data": [
        {
         "alignmentgroup": "True",
         "hovertemplate": "Tumor Severity=%{x}<br>Patient Age=%{y}<extra></extra>",
         "legendgroup": "Malignant",
         "marker": {
          "color": "red"
         },
         "name": "Malignant",
         "notched": false,
         "offsetgroup": "Malignant",
         "orientation": "v",
         "showlegend": true,
         "type": "box",
         "x": [
          "Malignant",
          "Malignant",
          "Malignant",
          "Malignant",
          "Malignant",
          "Malignant",
          "Malignant",
          "Malignant",
          "Malignant",
          "Malignant",
          "Malignant",
          "Malignant",
          "Malignant",
          "Malignant",
          "Malignant",
          "Malignant",
          "Malignant",
          "Malignant",
          "Malignant",
          "Malignant",
          "Malignant",
          "Malignant",
          "Malignant",
          "Malignant",
          "Malignant",
          "Malignant",
          "Malignant",
          "Malignant",
          "Malignant",
          "Malignant",
          "Malignant",
          "Malignant",
          "Malignant",
          "Malignant",
          "Malignant",
          "Malignant",
          "Malignant",
          "Malignant",
          "Malignant",
          "Malignant",
          "Malignant",
          "Malignant",
          "Malignant",
          "Malignant",
          "Malignant",
          "Malignant",
          "Malignant",
          "Malignant",
          "Malignant",
          "Malignant",
          "Malignant",
          "Malignant",
          "Malignant",
          "Malignant",
          "Malignant",
          "Malignant",
          "Malignant",
          "Malignant",
          "Malignant",
          "Malignant",
          "Malignant",
          "Malignant",
          "Malignant",
          "Malignant",
          "Malignant",
          "Malignant",
          "Malignant",
          "Malignant",
          "Malignant",
          "Malignant",
          "Malignant",
          "Malignant",
          "Malignant",
          "Malignant",
          "Malignant",
          "Malignant",
          "Malignant",
          "Malignant",
          "Malignant",
          "Malignant",
          "Malignant",
          "Malignant",
          "Malignant",
          "Malignant",
          "Malignant",
          "Malignant",
          "Malignant",
          "Malignant",
          "Malignant",
          "Malignant",
          "Malignant",
          "Malignant",
          "Malignant",
          "Malignant",
          "Malignant",
          "Malignant",
          "Malignant",
          "Malignant",
          "Malignant",
          "Malignant",
          "Malignant",
          "Malignant",
          "Malignant",
          "Malignant",
          "Malignant",
          "Malignant",
          "Malignant",
          "Malignant",
          "Malignant",
          "Malignant",
          "Malignant",
          "Malignant",
          "Malignant",
          "Malignant",
          "Malignant",
          "Malignant",
          "Malignant",
          "Malignant",
          "Malignant",
          "Malignant",
          "Malignant",
          "Malignant",
          "Malignant",
          "Malignant",
          "Malignant",
          "Malignant",
          "Malignant",
          "Malignant",
          "Malignant",
          "Malignant",
          "Malignant",
          "Malignant",
          "Malignant",
          "Malignant",
          "Malignant",
          "Malignant",
          "Malignant",
          "Malignant",
          "Malignant",
          "Malignant",
          "Malignant",
          "Malignant",
          "Malignant",
          "Malignant",
          "Malignant",
          "Malignant",
          "Malignant",
          "Malignant",
          "Malignant",
          "Malignant",
          "Malignant",
          "Malignant",
          "Malignant",
          "Malignant",
          "Malignant",
          "Malignant",
          "Malignant",
          "Malignant",
          "Malignant",
          "Malignant",
          "Malignant",
          "Malignant",
          "Malignant",
          "Malignant",
          "Malignant",
          "Malignant",
          "Malignant",
          "Malignant",
          "Malignant",
          "Malignant",
          "Malignant",
          "Malignant",
          "Malignant",
          "Malignant",
          "Malignant",
          "Malignant",
          "Malignant",
          "Malignant",
          "Malignant",
          "Malignant",
          "Malignant",
          "Malignant",
          "Malignant",
          "Malignant",
          "Malignant",
          "Malignant",
          "Malignant",
          "Malignant",
          "Malignant",
          "Malignant",
          "Malignant",
          "Malignant",
          "Malignant",
          "Malignant",
          "Malignant",
          "Malignant",
          "Malignant",
          "Malignant",
          "Malignant",
          "Malignant",
          "Malignant",
          "Malignant",
          "Malignant",
          "Malignant",
          "Malignant",
          "Malignant",
          "Malignant",
          "Malignant",
          "Malignant",
          "Malignant",
          "Malignant",
          "Malignant",
          "Malignant",
          "Malignant",
          "Malignant",
          "Malignant",
          "Malignant",
          "Malignant",
          "Malignant",
          "Malignant",
          "Malignant",
          "Malignant",
          "Malignant",
          "Malignant",
          "Malignant",
          "Malignant",
          "Malignant",
          "Malignant",
          "Malignant",
          "Malignant",
          "Malignant",
          "Malignant",
          "Malignant",
          "Malignant",
          "Malignant",
          "Malignant",
          "Malignant",
          "Malignant",
          "Malignant",
          "Malignant",
          "Malignant",
          "Malignant",
          "Malignant",
          "Malignant",
          "Malignant",
          "Malignant",
          "Malignant",
          "Malignant",
          "Malignant",
          "Malignant",
          "Malignant",
          "Malignant",
          "Malignant",
          "Malignant",
          "Malignant",
          "Malignant",
          "Malignant",
          "Malignant",
          "Malignant",
          "Malignant",
          "Malignant",
          "Malignant",
          "Malignant",
          "Malignant",
          "Malignant",
          "Malignant",
          "Malignant",
          "Malignant",
          "Malignant",
          "Malignant",
          "Malignant",
          "Malignant",
          "Malignant",
          "Malignant",
          "Malignant",
          "Malignant",
          "Malignant",
          "Malignant",
          "Malignant",
          "Malignant",
          "Malignant",
          "Malignant",
          "Malignant",
          "Malignant",
          "Malignant",
          "Malignant",
          "Malignant",
          "Malignant",
          "Malignant",
          "Malignant",
          "Malignant",
          "Malignant",
          "Malignant",
          "Malignant",
          "Malignant",
          "Malignant",
          "Malignant",
          "Malignant",
          "Malignant",
          "Malignant",
          "Malignant",
          "Malignant",
          "Malignant",
          "Malignant",
          "Malignant",
          "Malignant",
          "Malignant",
          "Malignant",
          "Malignant",
          "Malignant",
          "Malignant",
          "Malignant",
          "Malignant",
          "Malignant",
          "Malignant",
          "Malignant",
          "Malignant",
          "Malignant",
          "Malignant",
          "Malignant",
          "Malignant",
          "Malignant",
          "Malignant",
          "Malignant",
          "Malignant",
          "Malignant",
          "Malignant",
          "Malignant",
          "Malignant",
          "Malignant",
          "Malignant",
          "Malignant",
          "Malignant",
          "Malignant",
          "Malignant",
          "Malignant",
          "Malignant",
          "Malignant",
          "Malignant",
          "Malignant",
          "Malignant",
          "Malignant",
          "Malignant",
          "Malignant",
          "Malignant",
          "Malignant",
          "Malignant",
          "Malignant",
          "Malignant",
          "Malignant",
          "Malignant",
          "Malignant",
          "Malignant",
          "Malignant",
          "Malignant",
          "Malignant",
          "Malignant",
          "Malignant",
          "Malignant",
          "Malignant",
          "Malignant",
          "Malignant",
          "Malignant",
          "Malignant",
          "Malignant",
          "Malignant",
          "Malignant",
          "Malignant",
          "Malignant",
          "Malignant",
          "Malignant",
          "Malignant",
          "Malignant",
          "Malignant",
          "Malignant",
          "Malignant",
          "Malignant",
          "Malignant",
          "Malignant",
          "Malignant",
          "Malignant",
          "Malignant",
          "Malignant",
          "Malignant",
          "Malignant",
          "Malignant",
          "Malignant",
          "Malignant",
          "Malignant",
          "Malignant",
          "Malignant",
          "Malignant",
          "Malignant",
          "Malignant",
          "Malignant",
          "Malignant",
          "Malignant",
          "Malignant",
          "Malignant",
          "Malignant",
          "Malignant",
          "Malignant",
          "Malignant",
          "Malignant",
          "Malignant",
          "Malignant",
          "Malignant",
          "Malignant",
          "Malignant",
          "Malignant",
          "Malignant",
          "Malignant",
          "Malignant",
          "Malignant",
          "Malignant",
          "Malignant",
          "Malignant",
          "Malignant",
          "Malignant",
          "Malignant",
          "Malignant",
          "Malignant",
          "Malignant",
          "Malignant",
          "Malignant",
          "Malignant",
          "Malignant",
          "Malignant",
          "Malignant",
          "Malignant",
          "Malignant",
          "Malignant",
          "Malignant",
          "Malignant",
          "Malignant",
          "Malignant",
          "Malignant",
          "Malignant",
          "Malignant",
          "Malignant",
          "Malignant",
          "Malignant",
          "Malignant",
          "Malignant",
          "Malignant"
         ],
         "x0": " ",
         "xaxis": "x",
         "y": [
          67,
          43,
          58,
          74,
          57,
          60,
          76,
          42,
          59,
          54,
          66,
          56,
          42,
          59,
          75,
          45,
          54,
          57,
          67,
          48,
          62,
          44,
          64,
          67,
          80,
          53,
          59,
          52,
          60,
          74,
          72,
          68,
          66,
          70,
          74,
          60,
          44,
          68,
          51,
          58,
          62,
          73,
          80,
          59,
          54,
          44,
          33,
          71,
          55,
          51,
          40,
          67,
          75,
          66,
          46,
          59,
          65,
          67,
          80,
          62,
          63,
          63,
          71,
          57,
          71,
          55,
          58,
          67,
          87,
          68,
          54,
          86,
          63,
          49,
          71,
          74,
          37,
          81,
          59,
          79,
          41,
          85,
          66,
          51,
          72,
          43,
          59,
          43,
          76,
          57,
          79,
          54,
          63,
          80,
          76,
          64,
          63,
          72,
          76,
          58,
          57,
          70,
          56,
          73,
          77,
          67,
          71,
          65,
          76,
          72,
          75,
          61,
          67,
          55,
          66,
          57,
          70,
          79,
          40,
          68,
          64,
          65,
          55,
          66,
          44,
          77,
          80,
          50,
          46,
          49,
          50,
          54,
          67,
          77,
          71,
          64,
          71,
          60,
          34,
          72,
          60,
          85,
          54,
          55,
          67,
          75,
          87,
          46,
          46,
          61,
          59,
          78,
          34,
          39,
          83,
          56,
          55,
          88,
          71,
          49,
          52,
          58,
          67,
          80,
          68,
          54,
          74,
          49,
          50,
          52,
          68,
          74,
          58,
          60,
          69,
          74,
          68,
          61,
          70,
          37,
          65,
          76,
          72,
          42,
          66,
          48,
          60,
          67,
          78,
          66,
          43,
          66,
          58,
          33,
          36,
          39,
          83,
          68,
          63,
          78,
          46,
          60,
          56,
          null,
          69,
          66,
          54,
          80,
          68,
          null,
          69,
          71,
          87,
          55,
          84,
          80,
          77,
          54,
          51,
          40,
          42,
          44,
          47,
          52,
          53,
          83,
          50,
          63,
          82,
          80,
          59,
          44,
          49,
          71,
          75,
          87,
          70,
          55,
          76,
          62,
          65,
          73,
          65,
          67,
          61,
          71,
          73,
          63,
          50,
          45,
          67,
          66,
          71,
          69,
          80,
          70,
          65,
          83,
          40,
          79,
          38,
          64,
          55,
          84,
          56,
          59,
          75,
          59,
          28,
          85,
          59,
          65,
          46,
          63,
          53,
          66,
          66,
          86,
          47,
          59,
          61,
          46,
          93,
          44,
          61,
          64,
          79,
          68,
          43,
          52,
          67,
          58,
          68,
          62,
          68,
          35,
          55,
          67,
          73,
          58,
          50,
          59,
          60,
          53,
          79,
          67,
          64,
          70,
          55,
          65,
          45,
          57,
          49,
          null,
          64,
          40,
          66,
          64,
          52,
          43,
          51,
          79,
          59,
          66,
          50,
          58,
          62,
          57,
          71,
          62,
          67,
          71,
          68,
          66,
          76,
          96,
          70,
          45,
          65,
          64,
          69,
          62,
          48,
          59,
          67,
          61,
          59,
          52,
          77,
          71,
          63,
          72,
          76,
          69,
          68,
          67,
          56,
          69,
          65,
          62,
          67,
          43,
          41,
          55,
          58,
          87,
          72,
          60,
          83,
          31,
          62,
          58,
          75,
          65,
          74,
          57,
          65,
          74,
          40,
          60,
          86,
          71,
          85,
          72,
          52,
          71,
          64,
          62,
          86,
          46,
          58,
          56,
          49,
          76,
          62,
          64,
          53,
          70,
          55,
          76,
          65,
          41,
          36,
          50,
          54,
          52,
          48,
          null,
          65,
          65,
          66,
          41,
          72,
          42,
          80,
          72,
          67,
          61,
          55,
          52,
          63,
          62,
          57,
          66,
          77,
          50,
          74,
          42,
          62,
          null,
          57,
          40,
          74,
          57,
          71,
          48,
          58,
          70,
          54,
          71,
          67,
          68,
          52,
          56,
          66
         ],
         "y0": " ",
         "yaxis": "y"
        },
        {
         "alignmentgroup": "True",
         "hovertemplate": "Tumor Severity=%{x}<br>Patient Age=%{y}<extra></extra>",
         "legendgroup": "Benign",
         "marker": {
          "color": "blue"
         },
         "name": "Benign",
         "notched": false,
         "offsetgroup": "Benign",
         "orientation": "v",
         "showlegend": true,
         "type": "box",
         "x": [
          "Benign",
          "Benign",
          "Benign",
          "Benign",
          "Benign",
          "Benign",
          "Benign",
          "Benign",
          "Benign",
          "Benign",
          "Benign",
          "Benign",
          "Benign",
          "Benign",
          "Benign",
          "Benign",
          "Benign",
          "Benign",
          "Benign",
          "Benign",
          "Benign",
          "Benign",
          "Benign",
          "Benign",
          "Benign",
          "Benign",
          "Benign",
          "Benign",
          "Benign",
          "Benign",
          "Benign",
          "Benign",
          "Benign",
          "Benign",
          "Benign",
          "Benign",
          "Benign",
          "Benign",
          "Benign",
          "Benign",
          "Benign",
          "Benign",
          "Benign",
          "Benign",
          "Benign",
          "Benign",
          "Benign",
          "Benign",
          "Benign",
          "Benign",
          "Benign",
          "Benign",
          "Benign",
          "Benign",
          "Benign",
          "Benign",
          "Benign",
          "Benign",
          "Benign",
          "Benign",
          "Benign",
          "Benign",
          "Benign",
          "Benign",
          "Benign",
          "Benign",
          "Benign",
          "Benign",
          "Benign",
          "Benign",
          "Benign",
          "Benign",
          "Benign",
          "Benign",
          "Benign",
          "Benign",
          "Benign",
          "Benign",
          "Benign",
          "Benign",
          "Benign",
          "Benign",
          "Benign",
          "Benign",
          "Benign",
          "Benign",
          "Benign",
          "Benign",
          "Benign",
          "Benign",
          "Benign",
          "Benign",
          "Benign",
          "Benign",
          "Benign",
          "Benign",
          "Benign",
          "Benign",
          "Benign",
          "Benign",
          "Benign",
          "Benign",
          "Benign",
          "Benign",
          "Benign",
          "Benign",
          "Benign",
          "Benign",
          "Benign",
          "Benign",
          "Benign",
          "Benign",
          "Benign",
          "Benign",
          "Benign",
          "Benign",
          "Benign",
          "Benign",
          "Benign",
          "Benign",
          "Benign",
          "Benign",
          "Benign",
          "Benign",
          "Benign",
          "Benign",
          "Benign",
          "Benign",
          "Benign",
          "Benign",
          "Benign",
          "Benign",
          "Benign",
          "Benign",
          "Benign",
          "Benign",
          "Benign",
          "Benign",
          "Benign",
          "Benign",
          "Benign",
          "Benign",
          "Benign",
          "Benign",
          "Benign",
          "Benign",
          "Benign",
          "Benign",
          "Benign",
          "Benign",
          "Benign",
          "Benign",
          "Benign",
          "Benign",
          "Benign",
          "Benign",
          "Benign",
          "Benign",
          "Benign",
          "Benign",
          "Benign",
          "Benign",
          "Benign",
          "Benign",
          "Benign",
          "Benign",
          "Benign",
          "Benign",
          "Benign",
          "Benign",
          "Benign",
          "Benign",
          "Benign",
          "Benign",
          "Benign",
          "Benign",
          "Benign",
          "Benign",
          "Benign",
          "Benign",
          "Benign",
          "Benign",
          "Benign",
          "Benign",
          "Benign",
          "Benign",
          "Benign",
          "Benign",
          "Benign",
          "Benign",
          "Benign",
          "Benign",
          "Benign",
          "Benign",
          "Benign",
          "Benign",
          "Benign",
          "Benign",
          "Benign",
          "Benign",
          "Benign",
          "Benign",
          "Benign",
          "Benign",
          "Benign",
          "Benign",
          "Benign",
          "Benign",
          "Benign",
          "Benign",
          "Benign",
          "Benign",
          "Benign",
          "Benign",
          "Benign",
          "Benign",
          "Benign",
          "Benign",
          "Benign",
          "Benign",
          "Benign",
          "Benign",
          "Benign",
          "Benign",
          "Benign",
          "Benign",
          "Benign",
          "Benign",
          "Benign",
          "Benign",
          "Benign",
          "Benign",
          "Benign",
          "Benign",
          "Benign",
          "Benign",
          "Benign",
          "Benign",
          "Benign",
          "Benign",
          "Benign",
          "Benign",
          "Benign",
          "Benign",
          "Benign",
          "Benign",
          "Benign",
          "Benign",
          "Benign",
          "Benign",
          "Benign",
          "Benign",
          "Benign",
          "Benign",
          "Benign",
          "Benign",
          "Benign",
          "Benign",
          "Benign",
          "Benign",
          "Benign",
          "Benign",
          "Benign",
          "Benign",
          "Benign",
          "Benign",
          "Benign",
          "Benign",
          "Benign",
          "Benign",
          "Benign",
          "Benign",
          "Benign",
          "Benign",
          "Benign",
          "Benign",
          "Benign",
          "Benign",
          "Benign",
          "Benign",
          "Benign",
          "Benign",
          "Benign",
          "Benign",
          "Benign",
          "Benign",
          "Benign",
          "Benign",
          "Benign",
          "Benign",
          "Benign",
          "Benign",
          "Benign",
          "Benign",
          "Benign",
          "Benign",
          "Benign",
          "Benign",
          "Benign",
          "Benign",
          "Benign",
          "Benign",
          "Benign",
          "Benign",
          "Benign",
          "Benign",
          "Benign",
          "Benign",
          "Benign",
          "Benign",
          "Benign",
          "Benign",
          "Benign",
          "Benign",
          "Benign",
          "Benign",
          "Benign",
          "Benign",
          "Benign",
          "Benign",
          "Benign",
          "Benign",
          "Benign",
          "Benign",
          "Benign",
          "Benign",
          "Benign",
          "Benign",
          "Benign",
          "Benign",
          "Benign",
          "Benign",
          "Benign",
          "Benign",
          "Benign",
          "Benign",
          "Benign",
          "Benign",
          "Benign",
          "Benign",
          "Benign",
          "Benign",
          "Benign",
          "Benign",
          "Benign",
          "Benign",
          "Benign",
          "Benign",
          "Benign",
          "Benign",
          "Benign",
          "Benign",
          "Benign",
          "Benign",
          "Benign",
          "Benign",
          "Benign",
          "Benign",
          "Benign",
          "Benign",
          "Benign",
          "Benign",
          "Benign",
          "Benign",
          "Benign",
          "Benign",
          "Benign",
          "Benign",
          "Benign",
          "Benign",
          "Benign",
          "Benign",
          "Benign",
          "Benign",
          "Benign",
          "Benign",
          "Benign",
          "Benign",
          "Benign",
          "Benign",
          "Benign",
          "Benign",
          "Benign",
          "Benign",
          "Benign",
          "Benign",
          "Benign",
          "Benign",
          "Benign",
          "Benign",
          "Benign",
          "Benign",
          "Benign",
          "Benign",
          "Benign",
          "Benign",
          "Benign",
          "Benign",
          "Benign",
          "Benign",
          "Benign",
          "Benign",
          "Benign",
          "Benign",
          "Benign",
          "Benign",
          "Benign",
          "Benign",
          "Benign",
          "Benign",
          "Benign",
          "Benign",
          "Benign",
          "Benign",
          "Benign",
          "Benign",
          "Benign",
          "Benign",
          "Benign",
          "Benign",
          "Benign",
          "Benign",
          "Benign",
          "Benign",
          "Benign",
          "Benign",
          "Benign",
          "Benign",
          "Benign",
          "Benign",
          "Benign",
          "Benign",
          "Benign",
          "Benign",
          "Benign",
          "Benign",
          "Benign",
          "Benign",
          "Benign",
          "Benign",
          "Benign",
          "Benign",
          "Benign",
          "Benign",
          "Benign",
          "Benign",
          "Benign",
          "Benign",
          "Benign",
          "Benign",
          "Benign",
          "Benign",
          "Benign",
          "Benign",
          "Benign",
          "Benign",
          "Benign",
          "Benign",
          "Benign",
          "Benign",
          "Benign",
          "Benign",
          "Benign",
          "Benign",
          "Benign",
          "Benign",
          "Benign",
          "Benign",
          "Benign",
          "Benign",
          "Benign",
          "Benign",
          "Benign",
          "Benign",
          "Benign",
          "Benign",
          "Benign",
          "Benign",
          "Benign",
          "Benign",
          "Benign",
          "Benign",
          "Benign",
          "Benign",
          "Benign",
          "Benign",
          "Benign",
          "Benign",
          "Benign",
          "Benign",
          "Benign",
          "Benign",
          "Benign",
          "Benign",
          "Benign",
          "Benign",
          "Benign",
          "Benign",
          "Benign",
          "Benign",
          "Benign",
          "Benign",
          "Benign",
          "Benign",
          "Benign",
          "Benign",
          "Benign",
          "Benign",
          "Benign",
          "Benign",
          "Benign",
          "Benign",
          "Benign",
          "Benign",
          "Benign",
          "Benign"
         ],
         "x0": " ",
         "xaxis": "x",
         "y": [
          28,
          65,
          70,
          42,
          64,
          36,
          60,
          54,
          52,
          40,
          43,
          66,
          63,
          55,
          46,
          39,
          81,
          77,
          60,
          55,
          59,
          78,
          50,
          61,
          23,
          42,
          74,
          23,
          63,
          43,
          49,
          51,
          45,
          57,
          57,
          25,
          49,
          45,
          64,
          73,
          52,
          25,
          64,
          67,
          67,
          57,
          33,
          36,
          63,
          67,
          60,
          40,
          47,
          62,
          33,
          59,
          65,
          58,
          29,
          58,
          54,
          34,
          57,
          45,
          59,
          56,
          40,
          56,
          45,
          57,
          84,
          43,
          24,
          66,
          33,
          59,
          76,
          40,
          52,
          86,
          60,
          53,
          55,
          48,
          47,
          50,
          41,
          66,
          47,
          34,
          59,
          51,
          62,
          41,
          23,
          53,
          42,
          64,
          21,
          39,
          53,
          44,
          54,
          62,
          45,
          71,
          49,
          66,
          19,
          35,
          67,
          34,
          60,
          50,
          46,
          73,
          55,
          49,
          49,
          48,
          58,
          46,
          52,
          66,
          46,
          69,
          46,
          59,
          57,
          43,
          45,
          43,
          45,
          40,
          55,
          52,
          38,
          72,
          62,
          42,
          60,
          64,
          24,
          63,
          46,
          33,
          36,
          40,
          43,
          42,
          32,
          37,
          76,
          43,
          40,
          49,
          55,
          53,
          76,
          71,
          35,
          63,
          41,
          47,
          73,
          39,
          53,
          43,
          62,
          33,
          71,
          53,
          46,
          57,
          54,
          54,
          49,
          47,
          40,
          45,
          66,
          36,
          69,
          48,
          24,
          79,
          45,
          37,
          42,
          51,
          64,
          59,
          44,
          32,
          62,
          61,
          42,
          45,
          27,
          43,
          36,
          37,
          46,
          41,
          51,
          39,
          46,
          46,
          43,
          45,
          44,
          55,
          49,
          45,
          66,
          72,
          64,
          49,
          44,
          77,
          49,
          34,
          53,
          46,
          58,
          46,
          67,
          69,
          65,
          62,
          35,
          26,
          48,
          31,
          72,
          56,
          37,
          39,
          38,
          33,
          72,
          29,
          35,
          57,
          50,
          32,
          40,
          31,
          64,
          18,
          50,
          53,
          32,
          38,
          63,
          61,
          52,
          36,
          41,
          59,
          36,
          49,
          37,
          46,
          63,
          28,
          47,
          49,
          54,
          50,
          45,
          28,
          31,
          41,
          21,
          38,
          60,
          21,
          50,
          23,
          68,
          38,
          57,
          56,
          49,
          55,
          44,
          58,
          27,
          34,
          62,
          21,
          49,
          36,
          21,
          57,
          27,
          38,
          23,
          46,
          61,
          60,
          59,
          53,
          76,
          61,
          56,
          44,
          66,
          50,
          46,
          39,
          60,
          40,
          26,
          41,
          63,
          65,
          49,
          65,
          54,
          36,
          49,
          59,
          53,
          57,
          77,
          59,
          54,
          56,
          55,
          44,
          66,
          69,
          39,
          45,
          51,
          56,
          66,
          57,
          57,
          44,
          31,
          63,
          64,
          47,
          30,
          56,
          46,
          67,
          47,
          28,
          43,
          57,
          64,
          64,
          38,
          41,
          68,
          51,
          40,
          51,
          27,
          54,
          56,
          54,
          24,
          52,
          50,
          35,
          56,
          72,
          22,
          73,
          53,
          46,
          55,
          60,
          57,
          41,
          32,
          57,
          19,
          50,
          65,
          40,
          68,
          29,
          53,
          60,
          58,
          34,
          59,
          59,
          21,
          43,
          53,
          65,
          53,
          51,
          59,
          56,
          60,
          22,
          25,
          76,
          58,
          56,
          64,
          32,
          52,
          63,
          35,
          38,
          53,
          67,
          54,
          35,
          68,
          39,
          44,
          33,
          60,
          58,
          31,
          23,
          63,
          44,
          56,
          52,
          42,
          46,
          66,
          31,
          53,
          64,
          56,
          67,
          59,
          76,
          63,
          44,
          42,
          35,
          70,
          48,
          63,
          27,
          51,
          66,
          42,
          41,
          50,
          30,
          67,
          46,
          35,
          53,
          59,
          19,
          72,
          37,
          45,
          48,
          42,
          47,
          34,
          39,
          23,
          19,
          57,
          62,
          69,
          41,
          51,
          47,
          30,
          50,
          45,
          41,
          60,
          55,
          42,
          46,
          65,
          45,
          35,
          57,
          59,
          51,
          35,
          42,
          43,
          27,
          59,
          20,
          22,
          57,
          55,
          62,
          54,
          65,
          68,
          64,
          54,
          58,
          70,
          59,
          57,
          53,
          53,
          56,
          35,
          47,
          64,
          62
         ],
         "y0": " ",
         "yaxis": "y"
        }
       ],
       "layout": {
        "boxmode": "overlay",
        "legend": {
         "title": {
          "text": "Tumor Severity"
         },
         "tracegroupgap": 0
        },
        "template": {
         "data": {
          "bar": [
           {
            "error_x": {
             "color": "#2a3f5f"
            },
            "error_y": {
             "color": "#2a3f5f"
            },
            "marker": {
             "line": {
              "color": "#E5ECF6",
              "width": 0.5
             },
             "pattern": {
              "fillmode": "overlay",
              "size": 10,
              "solidity": 0.2
             }
            },
            "type": "bar"
           }
          ],
          "barpolar": [
           {
            "marker": {
             "line": {
              "color": "#E5ECF6",
              "width": 0.5
             },
             "pattern": {
              "fillmode": "overlay",
              "size": 10,
              "solidity": 0.2
             }
            },
            "type": "barpolar"
           }
          ],
          "carpet": [
           {
            "aaxis": {
             "endlinecolor": "#2a3f5f",
             "gridcolor": "white",
             "linecolor": "white",
             "minorgridcolor": "white",
             "startlinecolor": "#2a3f5f"
            },
            "baxis": {
             "endlinecolor": "#2a3f5f",
             "gridcolor": "white",
             "linecolor": "white",
             "minorgridcolor": "white",
             "startlinecolor": "#2a3f5f"
            },
            "type": "carpet"
           }
          ],
          "choropleth": [
           {
            "colorbar": {
             "outlinewidth": 0,
             "ticks": ""
            },
            "type": "choropleth"
           }
          ],
          "contour": [
           {
            "colorbar": {
             "outlinewidth": 0,
             "ticks": ""
            },
            "colorscale": [
             [
              0,
              "#0d0887"
             ],
             [
              0.1111111111111111,
              "#46039f"
             ],
             [
              0.2222222222222222,
              "#7201a8"
             ],
             [
              0.3333333333333333,
              "#9c179e"
             ],
             [
              0.4444444444444444,
              "#bd3786"
             ],
             [
              0.5555555555555556,
              "#d8576b"
             ],
             [
              0.6666666666666666,
              "#ed7953"
             ],
             [
              0.7777777777777778,
              "#fb9f3a"
             ],
             [
              0.8888888888888888,
              "#fdca26"
             ],
             [
              1,
              "#f0f921"
             ]
            ],
            "type": "contour"
           }
          ],
          "contourcarpet": [
           {
            "colorbar": {
             "outlinewidth": 0,
             "ticks": ""
            },
            "type": "contourcarpet"
           }
          ],
          "heatmap": [
           {
            "colorbar": {
             "outlinewidth": 0,
             "ticks": ""
            },
            "colorscale": [
             [
              0,
              "#0d0887"
             ],
             [
              0.1111111111111111,
              "#46039f"
             ],
             [
              0.2222222222222222,
              "#7201a8"
             ],
             [
              0.3333333333333333,
              "#9c179e"
             ],
             [
              0.4444444444444444,
              "#bd3786"
             ],
             [
              0.5555555555555556,
              "#d8576b"
             ],
             [
              0.6666666666666666,
              "#ed7953"
             ],
             [
              0.7777777777777778,
              "#fb9f3a"
             ],
             [
              0.8888888888888888,
              "#fdca26"
             ],
             [
              1,
              "#f0f921"
             ]
            ],
            "type": "heatmap"
           }
          ],
          "heatmapgl": [
           {
            "colorbar": {
             "outlinewidth": 0,
             "ticks": ""
            },
            "colorscale": [
             [
              0,
              "#0d0887"
             ],
             [
              0.1111111111111111,
              "#46039f"
             ],
             [
              0.2222222222222222,
              "#7201a8"
             ],
             [
              0.3333333333333333,
              "#9c179e"
             ],
             [
              0.4444444444444444,
              "#bd3786"
             ],
             [
              0.5555555555555556,
              "#d8576b"
             ],
             [
              0.6666666666666666,
              "#ed7953"
             ],
             [
              0.7777777777777778,
              "#fb9f3a"
             ],
             [
              0.8888888888888888,
              "#fdca26"
             ],
             [
              1,
              "#f0f921"
             ]
            ],
            "type": "heatmapgl"
           }
          ],
          "histogram": [
           {
            "marker": {
             "pattern": {
              "fillmode": "overlay",
              "size": 10,
              "solidity": 0.2
             }
            },
            "type": "histogram"
           }
          ],
          "histogram2d": [
           {
            "colorbar": {
             "outlinewidth": 0,
             "ticks": ""
            },
            "colorscale": [
             [
              0,
              "#0d0887"
             ],
             [
              0.1111111111111111,
              "#46039f"
             ],
             [
              0.2222222222222222,
              "#7201a8"
             ],
             [
              0.3333333333333333,
              "#9c179e"
             ],
             [
              0.4444444444444444,
              "#bd3786"
             ],
             [
              0.5555555555555556,
              "#d8576b"
             ],
             [
              0.6666666666666666,
              "#ed7953"
             ],
             [
              0.7777777777777778,
              "#fb9f3a"
             ],
             [
              0.8888888888888888,
              "#fdca26"
             ],
             [
              1,
              "#f0f921"
             ]
            ],
            "type": "histogram2d"
           }
          ],
          "histogram2dcontour": [
           {
            "colorbar": {
             "outlinewidth": 0,
             "ticks": ""
            },
            "colorscale": [
             [
              0,
              "#0d0887"
             ],
             [
              0.1111111111111111,
              "#46039f"
             ],
             [
              0.2222222222222222,
              "#7201a8"
             ],
             [
              0.3333333333333333,
              "#9c179e"
             ],
             [
              0.4444444444444444,
              "#bd3786"
             ],
             [
              0.5555555555555556,
              "#d8576b"
             ],
             [
              0.6666666666666666,
              "#ed7953"
             ],
             [
              0.7777777777777778,
              "#fb9f3a"
             ],
             [
              0.8888888888888888,
              "#fdca26"
             ],
             [
              1,
              "#f0f921"
             ]
            ],
            "type": "histogram2dcontour"
           }
          ],
          "mesh3d": [
           {
            "colorbar": {
             "outlinewidth": 0,
             "ticks": ""
            },
            "type": "mesh3d"
           }
          ],
          "parcoords": [
           {
            "line": {
             "colorbar": {
              "outlinewidth": 0,
              "ticks": ""
             }
            },
            "type": "parcoords"
           }
          ],
          "pie": [
           {
            "automargin": true,
            "type": "pie"
           }
          ],
          "scatter": [
           {
            "fillpattern": {
             "fillmode": "overlay",
             "size": 10,
             "solidity": 0.2
            },
            "type": "scatter"
           }
          ],
          "scatter3d": [
           {
            "line": {
             "colorbar": {
              "outlinewidth": 0,
              "ticks": ""
             }
            },
            "marker": {
             "colorbar": {
              "outlinewidth": 0,
              "ticks": ""
             }
            },
            "type": "scatter3d"
           }
          ],
          "scattercarpet": [
           {
            "marker": {
             "colorbar": {
              "outlinewidth": 0,
              "ticks": ""
             }
            },
            "type": "scattercarpet"
           }
          ],
          "scattergeo": [
           {
            "marker": {
             "colorbar": {
              "outlinewidth": 0,
              "ticks": ""
             }
            },
            "type": "scattergeo"
           }
          ],
          "scattergl": [
           {
            "marker": {
             "colorbar": {
              "outlinewidth": 0,
              "ticks": ""
             }
            },
            "type": "scattergl"
           }
          ],
          "scattermapbox": [
           {
            "marker": {
             "colorbar": {
              "outlinewidth": 0,
              "ticks": ""
             }
            },
            "type": "scattermapbox"
           }
          ],
          "scatterpolar": [
           {
            "marker": {
             "colorbar": {
              "outlinewidth": 0,
              "ticks": ""
             }
            },
            "type": "scatterpolar"
           }
          ],
          "scatterpolargl": [
           {
            "marker": {
             "colorbar": {
              "outlinewidth": 0,
              "ticks": ""
             }
            },
            "type": "scatterpolargl"
           }
          ],
          "scatterternary": [
           {
            "marker": {
             "colorbar": {
              "outlinewidth": 0,
              "ticks": ""
             }
            },
            "type": "scatterternary"
           }
          ],
          "surface": [
           {
            "colorbar": {
             "outlinewidth": 0,
             "ticks": ""
            },
            "colorscale": [
             [
              0,
              "#0d0887"
             ],
             [
              0.1111111111111111,
              "#46039f"
             ],
             [
              0.2222222222222222,
              "#7201a8"
             ],
             [
              0.3333333333333333,
              "#9c179e"
             ],
             [
              0.4444444444444444,
              "#bd3786"
             ],
             [
              0.5555555555555556,
              "#d8576b"
             ],
             [
              0.6666666666666666,
              "#ed7953"
             ],
             [
              0.7777777777777778,
              "#fb9f3a"
             ],
             [
              0.8888888888888888,
              "#fdca26"
             ],
             [
              1,
              "#f0f921"
             ]
            ],
            "type": "surface"
           }
          ],
          "table": [
           {
            "cells": {
             "fill": {
              "color": "#EBF0F8"
             },
             "line": {
              "color": "white"
             }
            },
            "header": {
             "fill": {
              "color": "#C8D4E3"
             },
             "line": {
              "color": "white"
             }
            },
            "type": "table"
           }
          ]
         },
         "layout": {
          "annotationdefaults": {
           "arrowcolor": "#2a3f5f",
           "arrowhead": 0,
           "arrowwidth": 1
          },
          "autotypenumbers": "strict",
          "coloraxis": {
           "colorbar": {
            "outlinewidth": 0,
            "ticks": ""
           }
          },
          "colorscale": {
           "diverging": [
            [
             0,
             "#8e0152"
            ],
            [
             0.1,
             "#c51b7d"
            ],
            [
             0.2,
             "#de77ae"
            ],
            [
             0.3,
             "#f1b6da"
            ],
            [
             0.4,
             "#fde0ef"
            ],
            [
             0.5,
             "#f7f7f7"
            ],
            [
             0.6,
             "#e6f5d0"
            ],
            [
             0.7,
             "#b8e186"
            ],
            [
             0.8,
             "#7fbc41"
            ],
            [
             0.9,
             "#4d9221"
            ],
            [
             1,
             "#276419"
            ]
           ],
           "sequential": [
            [
             0,
             "#0d0887"
            ],
            [
             0.1111111111111111,
             "#46039f"
            ],
            [
             0.2222222222222222,
             "#7201a8"
            ],
            [
             0.3333333333333333,
             "#9c179e"
            ],
            [
             0.4444444444444444,
             "#bd3786"
            ],
            [
             0.5555555555555556,
             "#d8576b"
            ],
            [
             0.6666666666666666,
             "#ed7953"
            ],
            [
             0.7777777777777778,
             "#fb9f3a"
            ],
            [
             0.8888888888888888,
             "#fdca26"
            ],
            [
             1,
             "#f0f921"
            ]
           ],
           "sequentialminus": [
            [
             0,
             "#0d0887"
            ],
            [
             0.1111111111111111,
             "#46039f"
            ],
            [
             0.2222222222222222,
             "#7201a8"
            ],
            [
             0.3333333333333333,
             "#9c179e"
            ],
            [
             0.4444444444444444,
             "#bd3786"
            ],
            [
             0.5555555555555556,
             "#d8576b"
            ],
            [
             0.6666666666666666,
             "#ed7953"
            ],
            [
             0.7777777777777778,
             "#fb9f3a"
            ],
            [
             0.8888888888888888,
             "#fdca26"
            ],
            [
             1,
             "#f0f921"
            ]
           ]
          },
          "colorway": [
           "#636efa",
           "#EF553B",
           "#00cc96",
           "#ab63fa",
           "#FFA15A",
           "#19d3f3",
           "#FF6692",
           "#B6E880",
           "#FF97FF",
           "#FECB52"
          ],
          "font": {
           "color": "#2a3f5f"
          },
          "geo": {
           "bgcolor": "white",
           "lakecolor": "white",
           "landcolor": "#E5ECF6",
           "showlakes": true,
           "showland": true,
           "subunitcolor": "white"
          },
          "hoverlabel": {
           "align": "left"
          },
          "hovermode": "closest",
          "mapbox": {
           "style": "light"
          },
          "paper_bgcolor": "white",
          "plot_bgcolor": "#E5ECF6",
          "polar": {
           "angularaxis": {
            "gridcolor": "white",
            "linecolor": "white",
            "ticks": ""
           },
           "bgcolor": "#E5ECF6",
           "radialaxis": {
            "gridcolor": "white",
            "linecolor": "white",
            "ticks": ""
           }
          },
          "scene": {
           "xaxis": {
            "backgroundcolor": "#E5ECF6",
            "gridcolor": "white",
            "gridwidth": 2,
            "linecolor": "white",
            "showbackground": true,
            "ticks": "",
            "zerolinecolor": "white"
           },
           "yaxis": {
            "backgroundcolor": "#E5ECF6",
            "gridcolor": "white",
            "gridwidth": 2,
            "linecolor": "white",
            "showbackground": true,
            "ticks": "",
            "zerolinecolor": "white"
           },
           "zaxis": {
            "backgroundcolor": "#E5ECF6",
            "gridcolor": "white",
            "gridwidth": 2,
            "linecolor": "white",
            "showbackground": true,
            "ticks": "",
            "zerolinecolor": "white"
           }
          },
          "shapedefaults": {
           "line": {
            "color": "#2a3f5f"
           }
          },
          "ternary": {
           "aaxis": {
            "gridcolor": "white",
            "linecolor": "white",
            "ticks": ""
           },
           "baxis": {
            "gridcolor": "white",
            "linecolor": "white",
            "ticks": ""
           },
           "bgcolor": "#E5ECF6",
           "caxis": {
            "gridcolor": "white",
            "linecolor": "white",
            "ticks": ""
           }
          },
          "title": {
           "x": 0.05
          },
          "xaxis": {
           "automargin": true,
           "gridcolor": "white",
           "linecolor": "white",
           "ticks": "",
           "title": {
            "standoff": 15
           },
           "zerolinecolor": "white",
           "zerolinewidth": 2
          },
          "yaxis": {
           "automargin": true,
           "gridcolor": "white",
           "linecolor": "white",
           "ticks": "",
           "title": {
            "standoff": 15
           },
           "zerolinecolor": "white",
           "zerolinewidth": 2
          }
         }
        },
        "title": {
         "text": "Box Plot of Age by Severity of Tumor (Benign vs Malignant)"
        },
        "xaxis": {
         "anchor": "y",
         "categoryarray": [
          "Malignant",
          "Benign"
         ],
         "categoryorder": "array",
         "domain": [
          0,
          1
         ],
         "title": {
          "text": "Tumor Severity"
         }
        },
        "yaxis": {
         "anchor": "x",
         "domain": [
          0,
          1
         ],
         "title": {
          "text": "Patient Age"
         }
        }
       }
      }
     },
     "metadata": {},
     "output_type": "display_data"
    },
    {
     "data": {
      "application/vnd.plotly.v1+json": {
       "config": {
        "plotlyServerURL": "https://plot.ly"
       },
       "data": [
        {
         "alignmentgroup": "True",
         "hovertemplate": "BI-RADS Assessment=%{x}<br>Patient Age=%{y}<extra></extra>",
         "legendgroup": "",
         "marker": {
          "color": "#636efa"
         },
         "name": "",
         "notched": false,
         "offsetgroup": "",
         "orientation": "v",
         "showlegend": false,
         "type": "box",
         "x": [
          5,
          4,
          5,
          4,
          5,
          4,
          4,
          5,
          5,
          5,
          5,
          3,
          4,
          4,
          4,
          4,
          3,
          4,
          4,
          4,
          null,
          5,
          4,
          5,
          4,
          5,
          2,
          5,
          5,
          5,
          4,
          5,
          5,
          4,
          4,
          4,
          4,
          5,
          4,
          4,
          4,
          4,
          4,
          4,
          5,
          5,
          5,
          4,
          2,
          5,
          4,
          5,
          4,
          4,
          4,
          4,
          4,
          5,
          4,
          5,
          5,
          5,
          4,
          3,
          5,
          4,
          4,
          5,
          4,
          4,
          4,
          5,
          5,
          5,
          5,
          4,
          5,
          4,
          5,
          5,
          4,
          5,
          3,
          4,
          5,
          4,
          5,
          5,
          4,
          5,
          4,
          4,
          4,
          5,
          5,
          5,
          4,
          4,
          5,
          4,
          5,
          4,
          4,
          4,
          4,
          4,
          4,
          3,
          4,
          5,
          4,
          5,
          5,
          4,
          4,
          4,
          4,
          4,
          5,
          5,
          5,
          4,
          4,
          4,
          5,
          4,
          4,
          4,
          4,
          5,
          5,
          5,
          5,
          4,
          5,
          5,
          4,
          5,
          4,
          5,
          5,
          4,
          4,
          4,
          4,
          5,
          5,
          4,
          4,
          4,
          5,
          5,
          4,
          4,
          3,
          4,
          5,
          4,
          4,
          4,
          5,
          4,
          4,
          4,
          4,
          5,
          4,
          4,
          5,
          5,
          4,
          4,
          4,
          4,
          4,
          5,
          4,
          4,
          5,
          5,
          4,
          5,
          4,
          4,
          4,
          5,
          5,
          4,
          5,
          5,
          4,
          5,
          5,
          4,
          4,
          5,
          4,
          5,
          4,
          4,
          4,
          3,
          4,
          2,
          4,
          5,
          4,
          4,
          null,
          4,
          4,
          4,
          2,
          5,
          5,
          4,
          4,
          4,
          5,
          3,
          3,
          4,
          5,
          5,
          5,
          4,
          5,
          2,
          4,
          4,
          3,
          5,
          5,
          4,
          5,
          5,
          3,
          4,
          4,
          4,
          5,
          4,
          4,
          3,
          5,
          4,
          4,
          5,
          4,
          3,
          4,
          5,
          4,
          4,
          5,
          3,
          5,
          5,
          5,
          5,
          5,
          4,
          4,
          4,
          5,
          4,
          5,
          3,
          5,
          5,
          5,
          5,
          5,
          2,
          4,
          5,
          5,
          4,
          5,
          4,
          5,
          4,
          4,
          4,
          4,
          4,
          4,
          4,
          5,
          5,
          5,
          4,
          5,
          4,
          4,
          5,
          4,
          4,
          4,
          5,
          5,
          4,
          3,
          4,
          4,
          4,
          2,
          4,
          4,
          4,
          4,
          5,
          4,
          4,
          4,
          4,
          4,
          4,
          4,
          4,
          4,
          5,
          4,
          5,
          4,
          4,
          4,
          4,
          4,
          5,
          5,
          4,
          5,
          5,
          4,
          5,
          5,
          5,
          4,
          4,
          5,
          5,
          4,
          4,
          4,
          5,
          4,
          5,
          5,
          4,
          5,
          5,
          4,
          4,
          5,
          4,
          4,
          4,
          5,
          5,
          4,
          5,
          4,
          5,
          3,
          4,
          4,
          5,
          5,
          4,
          5,
          3,
          3,
          4,
          5,
          4,
          4,
          5,
          5,
          4,
          4,
          5,
          5,
          4,
          4,
          4,
          4,
          5,
          2,
          3,
          5,
          5,
          4,
          4,
          4,
          5,
          5,
          4,
          3,
          5,
          4,
          5,
          5,
          5,
          5,
          5,
          3,
          4,
          5,
          5,
          4,
          5,
          4,
          5,
          5,
          5,
          4,
          5,
          5,
          5,
          4,
          4,
          4,
          4,
          5,
          5,
          5,
          4,
          5,
          5,
          4,
          5,
          4,
          4,
          5,
          4,
          5,
          5,
          4,
          5,
          5,
          5,
          4,
          4,
          4,
          5,
          4,
          4,
          5,
          5,
          5,
          4,
          4,
          5,
          4,
          4,
          1,
          4,
          5,
          3,
          4,
          4,
          5,
          4,
          3,
          4,
          5,
          5,
          4,
          5,
          4,
          5,
          4,
          4,
          4,
          4,
          4,
          4,
          5,
          4,
          5,
          4,
          4,
          4,
          4,
          4,
          4,
          4,
          5,
          4,
          5,
          5,
          4,
          5,
          4,
          5,
          4,
          4,
          4,
          5,
          5,
          5,
          4,
          4,
          4,
          4,
          5,
          5,
          5,
          5,
          4,
          4,
          5,
          4,
          5,
          3,
          4,
          5,
          4,
          3,
          4,
          5,
          5,
          4,
          2,
          5,
          5,
          5,
          5,
          5,
          4,
          4,
          4,
          1,
          4,
          5,
          4,
          5,
          4,
          4,
          3,
          4,
          4,
          4,
          5,
          4,
          4,
          5,
          4,
          5,
          6,
          3,
          4,
          4,
          5,
          4,
          4,
          5,
          4,
          5,
          5,
          2,
          4,
          4,
          5,
          5,
          4,
          4,
          4,
          4,
          4,
          4,
          4,
          4,
          4,
          5,
          4,
          4,
          5,
          4,
          4,
          2,
          4,
          4,
          5,
          4,
          4,
          5,
          4,
          5,
          5,
          5,
          4,
          5,
          5,
          5,
          5,
          4,
          5,
          4,
          4,
          5,
          4,
          4,
          4,
          5,
          5,
          4,
          4,
          5,
          5,
          5,
          5,
          5,
          3,
          4,
          5,
          4,
          5,
          4,
          4,
          4,
          4,
          5,
          4,
          5,
          5,
          4,
          4,
          4,
          4,
          4,
          5,
          5,
          4,
          5,
          4,
          4,
          4,
          5,
          4,
          4,
          5,
          4,
          4,
          4,
          5,
          4,
          4,
          5,
          4,
          5,
          4,
          4,
          4,
          5,
          5,
          4,
          2,
          5,
          4,
          4,
          3,
          5,
          6,
          4,
          5,
          4,
          5,
          4,
          5,
          5,
          5,
          4,
          5,
          5,
          5,
          4,
          5,
          4,
          4,
          4,
          4,
          5,
          5,
          5,
          5,
          4,
          5,
          5,
          4,
          4,
          6,
          4,
          4,
          4,
          4,
          4,
          4,
          5,
          4,
          4,
          4,
          4,
          4,
          5,
          4,
          6,
          4,
          4,
          4,
          4,
          4,
          5,
          4,
          4,
          4,
          6,
          6,
          4,
          4,
          4,
          5,
          4,
          5,
          4,
          5,
          5,
          4,
          4,
          4,
          5,
          4,
          4,
          3,
          4,
          4,
          4,
          4,
          4,
          4,
          4,
          4,
          4,
          4,
          6,
          5,
          4,
          5,
          4,
          4,
          4,
          5,
          5,
          4,
          4,
          5,
          5,
          5,
          5,
          4,
          5,
          5,
          5,
          4,
          5,
          4,
          4,
          4,
          5,
          4,
          2,
          5,
          4,
          4,
          3,
          4,
          4,
          4,
          4,
          4,
          3,
          5,
          4,
          6,
          4,
          4,
          4,
          4,
          4,
          4,
          4,
          4,
          4,
          3,
          5,
          5,
          5,
          4,
          1,
          5,
          5,
          4,
          4,
          4,
          5,
          5,
          4,
          5,
          4,
          5,
          5,
          5,
          4,
          4,
          4,
          4,
          4,
          4,
          4,
          5,
          4,
          4,
          4,
          6,
          4,
          5,
          5,
          4,
          4,
          5,
          4,
          6,
          5,
          4,
          5,
          4,
          4,
          4,
          4,
          4,
          4,
          5,
          4,
          4,
          4,
          4,
          4,
          5,
          4,
          4,
          4,
          4,
          4,
          4,
          4,
          4,
          4,
          4,
          5,
          5,
          5,
          5,
          4,
          5,
          4,
          5,
          4,
          2,
          4,
          5,
          4,
          5,
          4,
          4,
          4,
          4,
          3,
          5,
          4,
          4,
          5,
          4,
          3,
          5,
          4,
          4,
          5,
          5,
          6,
          5,
          4,
          4,
          "No Data",
          4,
          4,
          4,
          5,
          4,
          4,
          4,
          4,
          4,
          5,
          4,
          4,
          4,
          4,
          4,
          4,
          4,
          4,
          4,
          4,
          4,
          4,
          4,
          4,
          4,
          4,
          4,
          4,
          4,
          5,
          4,
          4,
          5,
          4,
          5,
          4,
          4,
          4,
          4,
          4,
          4,
          4,
          4,
          4,
          4,
          4,
          4,
          4,
          5,
          4,
          5,
          4,
          4,
          4,
          4,
          4,
          1,
          5,
          4,
          4,
          4,
          4,
          4,
          4,
          4,
          5,
          4
         ],
         "x0": " ",
         "xaxis": "x",
         "y": [
          67,
          43,
          58,
          28,
          74,
          65,
          70,
          42,
          57,
          60,
          76,
          42,
          64,
          36,
          60,
          54,
          52,
          59,
          54,
          40,
          66,
          56,
          43,
          42,
          59,
          75,
          66,
          63,
          45,
          55,
          46,
          54,
          57,
          39,
          81,
          77,
          60,
          67,
          48,
          55,
          59,
          78,
          50,
          61,
          62,
          44,
          64,
          23,
          42,
          67,
          74,
          80,
          23,
          63,
          53,
          43,
          49,
          51,
          45,
          59,
          52,
          60,
          57,
          57,
          74,
          25,
          49,
          72,
          45,
          64,
          73,
          68,
          52,
          66,
          70,
          25,
          74,
          64,
          60,
          67,
          67,
          44,
          68,
          57,
          51,
          33,
          58,
          36,
          63,
          62,
          73,
          80,
          67,
          59,
          60,
          54,
          40,
          47,
          62,
          33,
          59,
          65,
          58,
          29,
          58,
          54,
          44,
          34,
          57,
          33,
          45,
          71,
          59,
          56,
          40,
          56,
          45,
          57,
          55,
          84,
          51,
          43,
          24,
          66,
          33,
          59,
          76,
          40,
          52,
          40,
          67,
          75,
          86,
          60,
          66,
          46,
          59,
          65,
          53,
          67,
          80,
          55,
          48,
          47,
          50,
          62,
          63,
          63,
          71,
          41,
          57,
          71,
          66,
          47,
          34,
          59,
          55,
          51,
          62,
          58,
          67,
          41,
          23,
          53,
          42,
          87,
          68,
          64,
          54,
          86,
          21,
          39,
          53,
          44,
          54,
          63,
          62,
          45,
          71,
          49,
          49,
          66,
          19,
          35,
          71,
          74,
          37,
          67,
          81,
          59,
          34,
          79,
          60,
          41,
          50,
          85,
          46,
          66,
          73,
          55,
          49,
          49,
          51,
          48,
          58,
          72,
          46,
          43,
          52,
          66,
          46,
          69,
          59,
          43,
          76,
          46,
          59,
          57,
          43,
          45,
          43,
          45,
          57,
          79,
          54,
          40,
          63,
          55,
          52,
          38,
          72,
          80,
          76,
          62,
          64,
          42,
          60,
          64,
          63,
          24,
          72,
          63,
          46,
          33,
          76,
          36,
          40,
          58,
          43,
          42,
          32,
          57,
          37,
          70,
          56,
          76,
          73,
          77,
          67,
          71,
          65,
          43,
          40,
          49,
          76,
          55,
          72,
          53,
          75,
          61,
          67,
          55,
          66,
          76,
          57,
          71,
          70,
          35,
          79,
          63,
          40,
          41,
          47,
          68,
          64,
          65,
          73,
          39,
          55,
          53,
          66,
          43,
          44,
          77,
          62,
          80,
          33,
          50,
          71,
          46,
          49,
          53,
          46,
          57,
          54,
          54,
          49,
          47,
          40,
          45,
          50,
          54,
          67,
          77,
          66,
          71,
          36,
          69,
          48,
          64,
          71,
          60,
          24,
          34,
          79,
          45,
          37,
          42,
          72,
          60,
          85,
          51,
          54,
          55,
          64,
          67,
          75,
          87,
          46,
          59,
          46,
          61,
          44,
          32,
          62,
          59,
          61,
          78,
          42,
          45,
          34,
          39,
          27,
          43,
          83,
          36,
          37,
          56,
          55,
          46,
          88,
          71,
          41,
          49,
          51,
          39,
          46,
          52,
          58,
          67,
          80,
          46,
          43,
          45,
          68,
          54,
          44,
          74,
          55,
          49,
          49,
          50,
          52,
          45,
          66,
          68,
          72,
          64,
          49,
          44,
          74,
          58,
          77,
          49,
          34,
          60,
          69,
          53,
          46,
          74,
          58,
          68,
          46,
          61,
          70,
          37,
          65,
          67,
          69,
          76,
          65,
          72,
          62,
          42,
          66,
          48,
          35,
          60,
          67,
          78,
          66,
          26,
          48,
          31,
          43,
          72,
          66,
          56,
          58,
          33,
          37,
          36,
          39,
          39,
          83,
          68,
          63,
          78,
          38,
          46,
          60,
          56,
          33,
          null,
          69,
          66,
          72,
          29,
          54,
          80,
          68,
          35,
          57,
          null,
          50,
          32,
          69,
          71,
          87,
          40,
          31,
          64,
          55,
          18,
          50,
          53,
          84,
          80,
          32,
          77,
          38,
          54,
          63,
          61,
          52,
          36,
          41,
          59,
          51,
          36,
          40,
          49,
          37,
          46,
          63,
          28,
          47,
          42,
          44,
          49,
          47,
          52,
          53,
          83,
          50,
          63,
          82,
          54,
          50,
          80,
          45,
          59,
          28,
          31,
          41,
          21,
          44,
          49,
          71,
          75,
          38,
          60,
          87,
          70,
          55,
          21,
          50,
          76,
          23,
          68,
          62,
          65,
          73,
          38,
          57,
          65,
          67,
          61,
          56,
          71,
          49,
          55,
          44,
          58,
          27,
          73,
          34,
          63,
          50,
          62,
          21,
          49,
          36,
          45,
          67,
          21,
          57,
          66,
          71,
          69,
          80,
          27,
          38,
          23,
          70,
          46,
          61,
          65,
          60,
          83,
          40,
          59,
          53,
          76,
          79,
          38,
          61,
          56,
          44,
          64,
          66,
          50,
          46,
          39,
          60,
          55,
          40,
          26,
          84,
          41,
          63,
          65,
          49,
          56,
          65,
          54,
          36,
          49,
          59,
          75,
          59,
          59,
          28,
          53,
          57,
          77,
          85,
          59,
          59,
          65,
          54,
          46,
          63,
          53,
          56,
          66,
          66,
          55,
          44,
          86,
          47,
          59,
          66,
          61,
          46,
          69,
          93,
          39,
          44,
          45,
          51,
          56,
          66,
          61,
          64,
          57,
          79,
          57,
          44,
          31,
          63,
          64,
          47,
          68,
          30,
          43,
          56,
          46,
          67,
          52,
          67,
          47,
          58,
          28,
          43,
          57,
          68,
          64,
          64,
          62,
          38,
          68,
          41,
          35,
          68,
          55,
          67,
          51,
          40,
          73,
          58,
          51,
          50,
          59,
          60,
          27,
          54,
          56,
          53,
          54,
          79,
          67,
          64,
          70,
          55,
          65,
          45,
          57,
          49,
          24,
          52,
          50,
          35,
          null,
          64,
          40,
          66,
          64,
          52,
          43,
          56,
          72,
          51,
          79,
          22,
          73,
          53,
          59,
          46,
          66,
          50,
          58,
          55,
          62,
          60,
          57,
          57,
          41,
          71,
          32,
          57,
          19,
          62,
          67,
          50,
          65,
          40,
          71,
          68,
          68,
          29,
          53,
          66,
          60,
          76,
          58,
          96,
          70,
          34,
          59,
          45,
          65,
          59,
          21,
          43,
          53,
          65,
          64,
          53,
          51,
          59,
          56,
          60,
          22,
          25,
          76,
          69,
          58,
          62,
          56,
          64,
          32,
          48,
          59,
          52,
          63,
          67,
          61,
          59,
          52,
          35,
          77,
          71,
          63,
          38,
          72,
          76,
          53,
          67,
          69,
          54,
          35,
          68,
          68,
          67,
          39,
          44,
          33,
          60,
          58,
          31,
          23,
          56,
          69,
          63,
          65,
          44,
          62,
          67,
          56,
          52,
          43,
          41,
          42,
          46,
          55,
          58,
          87,
          66,
          72,
          60,
          83,
          31,
          53,
          64,
          31,
          62,
          56,
          58,
          67,
          75,
          65,
          74,
          59,
          57,
          76,
          63,
          44,
          42,
          35,
          65,
          70,
          48,
          74,
          40,
          63,
          60,
          86,
          27,
          71,
          85,
          51,
          72,
          52,
          66,
          71,
          42,
          64,
          41,
          50,
          30,
          67,
          62,
          46,
          35,
          53,
          59,
          19,
          86,
          72,
          37,
          46,
          45,
          48,
          58,
          42,
          56,
          47,
          49,
          76,
          62,
          64,
          53,
          70,
          55,
          34,
          76,
          39,
          23,
          19,
          65,
          57,
          41,
          36,
          62,
          69,
          41,
          51,
          50,
          47,
          54,
          52,
          30,
          48,
          null,
          65,
          50,
          65,
          66,
          41,
          72,
          42,
          80,
          45,
          41,
          72,
          60,
          67,
          55,
          61,
          55,
          52,
          42,
          63,
          62,
          46,
          65,
          57,
          66,
          45,
          77,
          35,
          50,
          57,
          74,
          59,
          51,
          42,
          35,
          42,
          43,
          62,
          27,
          null,
          57,
          59,
          40,
          20,
          74,
          22,
          57,
          57,
          55,
          62,
          54,
          71,
          65,
          68,
          64,
          54,
          48,
          58,
          58,
          70,
          70,
          59,
          57,
          53,
          54,
          53,
          71,
          67,
          68,
          56,
          35,
          52,
          47,
          56,
          64,
          66,
          62
         ],
         "y0": " ",
         "yaxis": "y"
        }
       ],
       "layout": {
        "boxmode": "group",
        "legend": {
         "tracegroupgap": 0
        },
        "template": {
         "data": {
          "bar": [
           {
            "error_x": {
             "color": "#2a3f5f"
            },
            "error_y": {
             "color": "#2a3f5f"
            },
            "marker": {
             "line": {
              "color": "#E5ECF6",
              "width": 0.5
             },
             "pattern": {
              "fillmode": "overlay",
              "size": 10,
              "solidity": 0.2
             }
            },
            "type": "bar"
           }
          ],
          "barpolar": [
           {
            "marker": {
             "line": {
              "color": "#E5ECF6",
              "width": 0.5
             },
             "pattern": {
              "fillmode": "overlay",
              "size": 10,
              "solidity": 0.2
             }
            },
            "type": "barpolar"
           }
          ],
          "carpet": [
           {
            "aaxis": {
             "endlinecolor": "#2a3f5f",
             "gridcolor": "white",
             "linecolor": "white",
             "minorgridcolor": "white",
             "startlinecolor": "#2a3f5f"
            },
            "baxis": {
             "endlinecolor": "#2a3f5f",
             "gridcolor": "white",
             "linecolor": "white",
             "minorgridcolor": "white",
             "startlinecolor": "#2a3f5f"
            },
            "type": "carpet"
           }
          ],
          "choropleth": [
           {
            "colorbar": {
             "outlinewidth": 0,
             "ticks": ""
            },
            "type": "choropleth"
           }
          ],
          "contour": [
           {
            "colorbar": {
             "outlinewidth": 0,
             "ticks": ""
            },
            "colorscale": [
             [
              0,
              "#0d0887"
             ],
             [
              0.1111111111111111,
              "#46039f"
             ],
             [
              0.2222222222222222,
              "#7201a8"
             ],
             [
              0.3333333333333333,
              "#9c179e"
             ],
             [
              0.4444444444444444,
              "#bd3786"
             ],
             [
              0.5555555555555556,
              "#d8576b"
             ],
             [
              0.6666666666666666,
              "#ed7953"
             ],
             [
              0.7777777777777778,
              "#fb9f3a"
             ],
             [
              0.8888888888888888,
              "#fdca26"
             ],
             [
              1,
              "#f0f921"
             ]
            ],
            "type": "contour"
           }
          ],
          "contourcarpet": [
           {
            "colorbar": {
             "outlinewidth": 0,
             "ticks": ""
            },
            "type": "contourcarpet"
           }
          ],
          "heatmap": [
           {
            "colorbar": {
             "outlinewidth": 0,
             "ticks": ""
            },
            "colorscale": [
             [
              0,
              "#0d0887"
             ],
             [
              0.1111111111111111,
              "#46039f"
             ],
             [
              0.2222222222222222,
              "#7201a8"
             ],
             [
              0.3333333333333333,
              "#9c179e"
             ],
             [
              0.4444444444444444,
              "#bd3786"
             ],
             [
              0.5555555555555556,
              "#d8576b"
             ],
             [
              0.6666666666666666,
              "#ed7953"
             ],
             [
              0.7777777777777778,
              "#fb9f3a"
             ],
             [
              0.8888888888888888,
              "#fdca26"
             ],
             [
              1,
              "#f0f921"
             ]
            ],
            "type": "heatmap"
           }
          ],
          "heatmapgl": [
           {
            "colorbar": {
             "outlinewidth": 0,
             "ticks": ""
            },
            "colorscale": [
             [
              0,
              "#0d0887"
             ],
             [
              0.1111111111111111,
              "#46039f"
             ],
             [
              0.2222222222222222,
              "#7201a8"
             ],
             [
              0.3333333333333333,
              "#9c179e"
             ],
             [
              0.4444444444444444,
              "#bd3786"
             ],
             [
              0.5555555555555556,
              "#d8576b"
             ],
             [
              0.6666666666666666,
              "#ed7953"
             ],
             [
              0.7777777777777778,
              "#fb9f3a"
             ],
             [
              0.8888888888888888,
              "#fdca26"
             ],
             [
              1,
              "#f0f921"
             ]
            ],
            "type": "heatmapgl"
           }
          ],
          "histogram": [
           {
            "marker": {
             "pattern": {
              "fillmode": "overlay",
              "size": 10,
              "solidity": 0.2
             }
            },
            "type": "histogram"
           }
          ],
          "histogram2d": [
           {
            "colorbar": {
             "outlinewidth": 0,
             "ticks": ""
            },
            "colorscale": [
             [
              0,
              "#0d0887"
             ],
             [
              0.1111111111111111,
              "#46039f"
             ],
             [
              0.2222222222222222,
              "#7201a8"
             ],
             [
              0.3333333333333333,
              "#9c179e"
             ],
             [
              0.4444444444444444,
              "#bd3786"
             ],
             [
              0.5555555555555556,
              "#d8576b"
             ],
             [
              0.6666666666666666,
              "#ed7953"
             ],
             [
              0.7777777777777778,
              "#fb9f3a"
             ],
             [
              0.8888888888888888,
              "#fdca26"
             ],
             [
              1,
              "#f0f921"
             ]
            ],
            "type": "histogram2d"
           }
          ],
          "histogram2dcontour": [
           {
            "colorbar": {
             "outlinewidth": 0,
             "ticks": ""
            },
            "colorscale": [
             [
              0,
              "#0d0887"
             ],
             [
              0.1111111111111111,
              "#46039f"
             ],
             [
              0.2222222222222222,
              "#7201a8"
             ],
             [
              0.3333333333333333,
              "#9c179e"
             ],
             [
              0.4444444444444444,
              "#bd3786"
             ],
             [
              0.5555555555555556,
              "#d8576b"
             ],
             [
              0.6666666666666666,
              "#ed7953"
             ],
             [
              0.7777777777777778,
              "#fb9f3a"
             ],
             [
              0.8888888888888888,
              "#fdca26"
             ],
             [
              1,
              "#f0f921"
             ]
            ],
            "type": "histogram2dcontour"
           }
          ],
          "mesh3d": [
           {
            "colorbar": {
             "outlinewidth": 0,
             "ticks": ""
            },
            "type": "mesh3d"
           }
          ],
          "parcoords": [
           {
            "line": {
             "colorbar": {
              "outlinewidth": 0,
              "ticks": ""
             }
            },
            "type": "parcoords"
           }
          ],
          "pie": [
           {
            "automargin": true,
            "type": "pie"
           }
          ],
          "scatter": [
           {
            "fillpattern": {
             "fillmode": "overlay",
             "size": 10,
             "solidity": 0.2
            },
            "type": "scatter"
           }
          ],
          "scatter3d": [
           {
            "line": {
             "colorbar": {
              "outlinewidth": 0,
              "ticks": ""
             }
            },
            "marker": {
             "colorbar": {
              "outlinewidth": 0,
              "ticks": ""
             }
            },
            "type": "scatter3d"
           }
          ],
          "scattercarpet": [
           {
            "marker": {
             "colorbar": {
              "outlinewidth": 0,
              "ticks": ""
             }
            },
            "type": "scattercarpet"
           }
          ],
          "scattergeo": [
           {
            "marker": {
             "colorbar": {
              "outlinewidth": 0,
              "ticks": ""
             }
            },
            "type": "scattergeo"
           }
          ],
          "scattergl": [
           {
            "marker": {
             "colorbar": {
              "outlinewidth": 0,
              "ticks": ""
             }
            },
            "type": "scattergl"
           }
          ],
          "scattermapbox": [
           {
            "marker": {
             "colorbar": {
              "outlinewidth": 0,
              "ticks": ""
             }
            },
            "type": "scattermapbox"
           }
          ],
          "scatterpolar": [
           {
            "marker": {
             "colorbar": {
              "outlinewidth": 0,
              "ticks": ""
             }
            },
            "type": "scatterpolar"
           }
          ],
          "scatterpolargl": [
           {
            "marker": {
             "colorbar": {
              "outlinewidth": 0,
              "ticks": ""
             }
            },
            "type": "scatterpolargl"
           }
          ],
          "scatterternary": [
           {
            "marker": {
             "colorbar": {
              "outlinewidth": 0,
              "ticks": ""
             }
            },
            "type": "scatterternary"
           }
          ],
          "surface": [
           {
            "colorbar": {
             "outlinewidth": 0,
             "ticks": ""
            },
            "colorscale": [
             [
              0,
              "#0d0887"
             ],
             [
              0.1111111111111111,
              "#46039f"
             ],
             [
              0.2222222222222222,
              "#7201a8"
             ],
             [
              0.3333333333333333,
              "#9c179e"
             ],
             [
              0.4444444444444444,
              "#bd3786"
             ],
             [
              0.5555555555555556,
              "#d8576b"
             ],
             [
              0.6666666666666666,
              "#ed7953"
             ],
             [
              0.7777777777777778,
              "#fb9f3a"
             ],
             [
              0.8888888888888888,
              "#fdca26"
             ],
             [
              1,
              "#f0f921"
             ]
            ],
            "type": "surface"
           }
          ],
          "table": [
           {
            "cells": {
             "fill": {
              "color": "#EBF0F8"
             },
             "line": {
              "color": "white"
             }
            },
            "header": {
             "fill": {
              "color": "#C8D4E3"
             },
             "line": {
              "color": "white"
             }
            },
            "type": "table"
           }
          ]
         },
         "layout": {
          "annotationdefaults": {
           "arrowcolor": "#2a3f5f",
           "arrowhead": 0,
           "arrowwidth": 1
          },
          "autotypenumbers": "strict",
          "coloraxis": {
           "colorbar": {
            "outlinewidth": 0,
            "ticks": ""
           }
          },
          "colorscale": {
           "diverging": [
            [
             0,
             "#8e0152"
            ],
            [
             0.1,
             "#c51b7d"
            ],
            [
             0.2,
             "#de77ae"
            ],
            [
             0.3,
             "#f1b6da"
            ],
            [
             0.4,
             "#fde0ef"
            ],
            [
             0.5,
             "#f7f7f7"
            ],
            [
             0.6,
             "#e6f5d0"
            ],
            [
             0.7,
             "#b8e186"
            ],
            [
             0.8,
             "#7fbc41"
            ],
            [
             0.9,
             "#4d9221"
            ],
            [
             1,
             "#276419"
            ]
           ],
           "sequential": [
            [
             0,
             "#0d0887"
            ],
            [
             0.1111111111111111,
             "#46039f"
            ],
            [
             0.2222222222222222,
             "#7201a8"
            ],
            [
             0.3333333333333333,
             "#9c179e"
            ],
            [
             0.4444444444444444,
             "#bd3786"
            ],
            [
             0.5555555555555556,
             "#d8576b"
            ],
            [
             0.6666666666666666,
             "#ed7953"
            ],
            [
             0.7777777777777778,
             "#fb9f3a"
            ],
            [
             0.8888888888888888,
             "#fdca26"
            ],
            [
             1,
             "#f0f921"
            ]
           ],
           "sequentialminus": [
            [
             0,
             "#0d0887"
            ],
            [
             0.1111111111111111,
             "#46039f"
            ],
            [
             0.2222222222222222,
             "#7201a8"
            ],
            [
             0.3333333333333333,
             "#9c179e"
            ],
            [
             0.4444444444444444,
             "#bd3786"
            ],
            [
             0.5555555555555556,
             "#d8576b"
            ],
            [
             0.6666666666666666,
             "#ed7953"
            ],
            [
             0.7777777777777778,
             "#fb9f3a"
            ],
            [
             0.8888888888888888,
             "#fdca26"
            ],
            [
             1,
             "#f0f921"
            ]
           ]
          },
          "colorway": [
           "#636efa",
           "#EF553B",
           "#00cc96",
           "#ab63fa",
           "#FFA15A",
           "#19d3f3",
           "#FF6692",
           "#B6E880",
           "#FF97FF",
           "#FECB52"
          ],
          "font": {
           "color": "#2a3f5f"
          },
          "geo": {
           "bgcolor": "white",
           "lakecolor": "white",
           "landcolor": "#E5ECF6",
           "showlakes": true,
           "showland": true,
           "subunitcolor": "white"
          },
          "hoverlabel": {
           "align": "left"
          },
          "hovermode": "closest",
          "mapbox": {
           "style": "light"
          },
          "paper_bgcolor": "white",
          "plot_bgcolor": "#E5ECF6",
          "polar": {
           "angularaxis": {
            "gridcolor": "white",
            "linecolor": "white",
            "ticks": ""
           },
           "bgcolor": "#E5ECF6",
           "radialaxis": {
            "gridcolor": "white",
            "linecolor": "white",
            "ticks": ""
           }
          },
          "scene": {
           "xaxis": {
            "backgroundcolor": "#E5ECF6",
            "gridcolor": "white",
            "gridwidth": 2,
            "linecolor": "white",
            "showbackground": true,
            "ticks": "",
            "zerolinecolor": "white"
           },
           "yaxis": {
            "backgroundcolor": "#E5ECF6",
            "gridcolor": "white",
            "gridwidth": 2,
            "linecolor": "white",
            "showbackground": true,
            "ticks": "",
            "zerolinecolor": "white"
           },
           "zaxis": {
            "backgroundcolor": "#E5ECF6",
            "gridcolor": "white",
            "gridwidth": 2,
            "linecolor": "white",
            "showbackground": true,
            "ticks": "",
            "zerolinecolor": "white"
           }
          },
          "shapedefaults": {
           "line": {
            "color": "#2a3f5f"
           }
          },
          "ternary": {
           "aaxis": {
            "gridcolor": "white",
            "linecolor": "white",
            "ticks": ""
           },
           "baxis": {
            "gridcolor": "white",
            "linecolor": "white",
            "ticks": ""
           },
           "bgcolor": "#E5ECF6",
           "caxis": {
            "gridcolor": "white",
            "linecolor": "white",
            "ticks": ""
           }
          },
          "title": {
           "x": 0.05
          },
          "xaxis": {
           "automargin": true,
           "gridcolor": "white",
           "linecolor": "white",
           "ticks": "",
           "title": {
            "standoff": 15
           },
           "zerolinecolor": "white",
           "zerolinewidth": 2
          },
          "yaxis": {
           "automargin": true,
           "gridcolor": "white",
           "linecolor": "white",
           "ticks": "",
           "title": {
            "standoff": 15
           },
           "zerolinecolor": "white",
           "zerolinewidth": 2
          }
         }
        },
        "title": {
         "text": "Box Plot of Age vs BI-RADS"
        },
        "xaxis": {
         "anchor": "y",
         "domain": [
          0,
          1
         ],
         "title": {
          "text": "BI-RADS Assessment"
         }
        },
        "yaxis": {
         "anchor": "x",
         "domain": [
          0,
          1
         ],
         "title": {
          "text": "Patient Age"
         }
        }
       }
      }
     },
     "metadata": {},
     "output_type": "display_data"
    },
    {
     "data": {
      "application/vnd.plotly.v1+json": {
       "config": {
        "plotlyServerURL": "https://plot.ly"
       },
       "data": [
        {
         "alignmentgroup": "True",
         "box": {
          "visible": false
         },
         "hovertemplate": "Tumor Type=%{x}<br>Patient Age=%{y}<extra></extra>",
         "legendgroup": "Malignant",
         "marker": {
          "color": "red"
         },
         "name": "Malignant",
         "offsetgroup": "Malignant",
         "orientation": "v",
         "scalegroup": "True",
         "showlegend": true,
         "type": "violin",
         "x": [
          "Malignant",
          "Malignant",
          "Malignant",
          "Malignant",
          "Malignant",
          "Malignant",
          "Malignant",
          "Malignant",
          "Malignant",
          "Malignant",
          "Malignant",
          "Malignant",
          "Malignant",
          "Malignant",
          "Malignant",
          "Malignant",
          "Malignant",
          "Malignant",
          "Malignant",
          "Malignant",
          "Malignant",
          "Malignant",
          "Malignant",
          "Malignant",
          "Malignant",
          "Malignant",
          "Malignant",
          "Malignant",
          "Malignant",
          "Malignant",
          "Malignant",
          "Malignant",
          "Malignant",
          "Malignant",
          "Malignant",
          "Malignant",
          "Malignant",
          "Malignant",
          "Malignant",
          "Malignant",
          "Malignant",
          "Malignant",
          "Malignant",
          "Malignant",
          "Malignant",
          "Malignant",
          "Malignant",
          "Malignant",
          "Malignant",
          "Malignant",
          "Malignant",
          "Malignant",
          "Malignant",
          "Malignant",
          "Malignant",
          "Malignant",
          "Malignant",
          "Malignant",
          "Malignant",
          "Malignant",
          "Malignant",
          "Malignant",
          "Malignant",
          "Malignant",
          "Malignant",
          "Malignant",
          "Malignant",
          "Malignant",
          "Malignant",
          "Malignant",
          "Malignant",
          "Malignant",
          "Malignant",
          "Malignant",
          "Malignant",
          "Malignant",
          "Malignant",
          "Malignant",
          "Malignant",
          "Malignant",
          "Malignant",
          "Malignant",
          "Malignant",
          "Malignant",
          "Malignant",
          "Malignant",
          "Malignant",
          "Malignant",
          "Malignant",
          "Malignant",
          "Malignant",
          "Malignant",
          "Malignant",
          "Malignant",
          "Malignant",
          "Malignant",
          "Malignant",
          "Malignant",
          "Malignant",
          "Malignant",
          "Malignant",
          "Malignant",
          "Malignant",
          "Malignant",
          "Malignant",
          "Malignant",
          "Malignant",
          "Malignant",
          "Malignant",
          "Malignant",
          "Malignant",
          "Malignant",
          "Malignant",
          "Malignant",
          "Malignant",
          "Malignant",
          "Malignant",
          "Malignant",
          "Malignant",
          "Malignant",
          "Malignant",
          "Malignant",
          "Malignant",
          "Malignant",
          "Malignant",
          "Malignant",
          "Malignant",
          "Malignant",
          "Malignant",
          "Malignant",
          "Malignant",
          "Malignant",
          "Malignant",
          "Malignant",
          "Malignant",
          "Malignant",
          "Malignant",
          "Malignant",
          "Malignant",
          "Malignant",
          "Malignant",
          "Malignant",
          "Malignant",
          "Malignant",
          "Malignant",
          "Malignant",
          "Malignant",
          "Malignant",
          "Malignant",
          "Malignant",
          "Malignant",
          "Malignant",
          "Malignant",
          "Malignant",
          "Malignant",
          "Malignant",
          "Malignant",
          "Malignant",
          "Malignant",
          "Malignant",
          "Malignant",
          "Malignant",
          "Malignant",
          "Malignant",
          "Malignant",
          "Malignant",
          "Malignant",
          "Malignant",
          "Malignant",
          "Malignant",
          "Malignant",
          "Malignant",
          "Malignant",
          "Malignant",
          "Malignant",
          "Malignant",
          "Malignant",
          "Malignant",
          "Malignant",
          "Malignant",
          "Malignant",
          "Malignant",
          "Malignant",
          "Malignant",
          "Malignant",
          "Malignant",
          "Malignant",
          "Malignant",
          "Malignant",
          "Malignant",
          "Malignant",
          "Malignant",
          "Malignant",
          "Malignant",
          "Malignant",
          "Malignant",
          "Malignant",
          "Malignant",
          "Malignant",
          "Malignant",
          "Malignant",
          "Malignant",
          "Malignant",
          "Malignant",
          "Malignant",
          "Malignant",
          "Malignant",
          "Malignant",
          "Malignant",
          "Malignant",
          "Malignant",
          "Malignant",
          "Malignant",
          "Malignant",
          "Malignant",
          "Malignant",
          "Malignant",
          "Malignant",
          "Malignant",
          "Malignant",
          "Malignant",
          "Malignant",
          "Malignant",
          "Malignant",
          "Malignant",
          "Malignant",
          "Malignant",
          "Malignant",
          "Malignant",
          "Malignant",
          "Malignant",
          "Malignant",
          "Malignant",
          "Malignant",
          "Malignant",
          "Malignant",
          "Malignant",
          "Malignant",
          "Malignant",
          "Malignant",
          "Malignant",
          "Malignant",
          "Malignant",
          "Malignant",
          "Malignant",
          "Malignant",
          "Malignant",
          "Malignant",
          "Malignant",
          "Malignant",
          "Malignant",
          "Malignant",
          "Malignant",
          "Malignant",
          "Malignant",
          "Malignant",
          "Malignant",
          "Malignant",
          "Malignant",
          "Malignant",
          "Malignant",
          "Malignant",
          "Malignant",
          "Malignant",
          "Malignant",
          "Malignant",
          "Malignant",
          "Malignant",
          "Malignant",
          "Malignant",
          "Malignant",
          "Malignant",
          "Malignant",
          "Malignant",
          "Malignant",
          "Malignant",
          "Malignant",
          "Malignant",
          "Malignant",
          "Malignant",
          "Malignant",
          "Malignant",
          "Malignant",
          "Malignant",
          "Malignant",
          "Malignant",
          "Malignant",
          "Malignant",
          "Malignant",
          "Malignant",
          "Malignant",
          "Malignant",
          "Malignant",
          "Malignant",
          "Malignant",
          "Malignant",
          "Malignant",
          "Malignant",
          "Malignant",
          "Malignant",
          "Malignant",
          "Malignant",
          "Malignant",
          "Malignant",
          "Malignant",
          "Malignant",
          "Malignant",
          "Malignant",
          "Malignant",
          "Malignant",
          "Malignant",
          "Malignant",
          "Malignant",
          "Malignant",
          "Malignant",
          "Malignant",
          "Malignant",
          "Malignant",
          "Malignant",
          "Malignant",
          "Malignant",
          "Malignant",
          "Malignant",
          "Malignant",
          "Malignant",
          "Malignant",
          "Malignant",
          "Malignant",
          "Malignant",
          "Malignant",
          "Malignant",
          "Malignant",
          "Malignant",
          "Malignant",
          "Malignant",
          "Malignant",
          "Malignant",
          "Malignant",
          "Malignant",
          "Malignant",
          "Malignant",
          "Malignant",
          "Malignant",
          "Malignant",
          "Malignant",
          "Malignant",
          "Malignant",
          "Malignant",
          "Malignant",
          "Malignant",
          "Malignant",
          "Malignant",
          "Malignant",
          "Malignant",
          "Malignant",
          "Malignant",
          "Malignant",
          "Malignant",
          "Malignant",
          "Malignant",
          "Malignant",
          "Malignant",
          "Malignant",
          "Malignant",
          "Malignant",
          "Malignant",
          "Malignant",
          "Malignant",
          "Malignant",
          "Malignant",
          "Malignant",
          "Malignant",
          "Malignant",
          "Malignant",
          "Malignant",
          "Malignant",
          "Malignant",
          "Malignant",
          "Malignant",
          "Malignant",
          "Malignant",
          "Malignant",
          "Malignant",
          "Malignant",
          "Malignant",
          "Malignant",
          "Malignant",
          "Malignant",
          "Malignant",
          "Malignant",
          "Malignant",
          "Malignant",
          "Malignant",
          "Malignant",
          "Malignant",
          "Malignant",
          "Malignant",
          "Malignant",
          "Malignant",
          "Malignant",
          "Malignant",
          "Malignant",
          "Malignant",
          "Malignant",
          "Malignant",
          "Malignant",
          "Malignant",
          "Malignant",
          "Malignant",
          "Malignant",
          "Malignant",
          "Malignant",
          "Malignant",
          "Malignant",
          "Malignant",
          "Malignant",
          "Malignant",
          "Malignant",
          "Malignant",
          "Malignant",
          "Malignant",
          "Malignant",
          "Malignant",
          "Malignant",
          "Malignant",
          "Malignant",
          "Malignant",
          "Malignant",
          "Malignant",
          "Malignant",
          "Malignant",
          "Malignant",
          "Malignant",
          "Malignant",
          "Malignant",
          "Malignant",
          "Malignant",
          "Malignant",
          "Malignant",
          "Malignant",
          "Malignant",
          "Malignant",
          "Malignant",
          "Malignant",
          "Malignant"
         ],
         "x0": " ",
         "xaxis": "x",
         "y": [
          67,
          43,
          58,
          74,
          57,
          60,
          76,
          42,
          59,
          54,
          66,
          56,
          42,
          59,
          75,
          45,
          54,
          57,
          67,
          48,
          62,
          44,
          64,
          67,
          80,
          53,
          59,
          52,
          60,
          74,
          72,
          68,
          66,
          70,
          74,
          60,
          44,
          68,
          51,
          58,
          62,
          73,
          80,
          59,
          54,
          44,
          33,
          71,
          55,
          51,
          40,
          67,
          75,
          66,
          46,
          59,
          65,
          67,
          80,
          62,
          63,
          63,
          71,
          57,
          71,
          55,
          58,
          67,
          87,
          68,
          54,
          86,
          63,
          49,
          71,
          74,
          37,
          81,
          59,
          79,
          41,
          85,
          66,
          51,
          72,
          43,
          59,
          43,
          76,
          57,
          79,
          54,
          63,
          80,
          76,
          64,
          63,
          72,
          76,
          58,
          57,
          70,
          56,
          73,
          77,
          67,
          71,
          65,
          76,
          72,
          75,
          61,
          67,
          55,
          66,
          57,
          70,
          79,
          40,
          68,
          64,
          65,
          55,
          66,
          44,
          77,
          80,
          50,
          46,
          49,
          50,
          54,
          67,
          77,
          71,
          64,
          71,
          60,
          34,
          72,
          60,
          85,
          54,
          55,
          67,
          75,
          87,
          46,
          46,
          61,
          59,
          78,
          34,
          39,
          83,
          56,
          55,
          88,
          71,
          49,
          52,
          58,
          67,
          80,
          68,
          54,
          74,
          49,
          50,
          52,
          68,
          74,
          58,
          60,
          69,
          74,
          68,
          61,
          70,
          37,
          65,
          76,
          72,
          42,
          66,
          48,
          60,
          67,
          78,
          66,
          43,
          66,
          58,
          33,
          36,
          39,
          83,
          68,
          63,
          78,
          46,
          60,
          56,
          null,
          69,
          66,
          54,
          80,
          68,
          null,
          69,
          71,
          87,
          55,
          84,
          80,
          77,
          54,
          51,
          40,
          42,
          44,
          47,
          52,
          53,
          83,
          50,
          63,
          82,
          80,
          59,
          44,
          49,
          71,
          75,
          87,
          70,
          55,
          76,
          62,
          65,
          73,
          65,
          67,
          61,
          71,
          73,
          63,
          50,
          45,
          67,
          66,
          71,
          69,
          80,
          70,
          65,
          83,
          40,
          79,
          38,
          64,
          55,
          84,
          56,
          59,
          75,
          59,
          28,
          85,
          59,
          65,
          46,
          63,
          53,
          66,
          66,
          86,
          47,
          59,
          61,
          46,
          93,
          44,
          61,
          64,
          79,
          68,
          43,
          52,
          67,
          58,
          68,
          62,
          68,
          35,
          55,
          67,
          73,
          58,
          50,
          59,
          60,
          53,
          79,
          67,
          64,
          70,
          55,
          65,
          45,
          57,
          49,
          null,
          64,
          40,
          66,
          64,
          52,
          43,
          51,
          79,
          59,
          66,
          50,
          58,
          62,
          57,
          71,
          62,
          67,
          71,
          68,
          66,
          76,
          96,
          70,
          45,
          65,
          64,
          69,
          62,
          48,
          59,
          67,
          61,
          59,
          52,
          77,
          71,
          63,
          72,
          76,
          69,
          68,
          67,
          56,
          69,
          65,
          62,
          67,
          43,
          41,
          55,
          58,
          87,
          72,
          60,
          83,
          31,
          62,
          58,
          75,
          65,
          74,
          57,
          65,
          74,
          40,
          60,
          86,
          71,
          85,
          72,
          52,
          71,
          64,
          62,
          86,
          46,
          58,
          56,
          49,
          76,
          62,
          64,
          53,
          70,
          55,
          76,
          65,
          41,
          36,
          50,
          54,
          52,
          48,
          null,
          65,
          65,
          66,
          41,
          72,
          42,
          80,
          72,
          67,
          61,
          55,
          52,
          63,
          62,
          57,
          66,
          77,
          50,
          74,
          42,
          62,
          null,
          57,
          40,
          74,
          57,
          71,
          48,
          58,
          70,
          54,
          71,
          67,
          68,
          52,
          56,
          66
         ],
         "y0": " ",
         "yaxis": "y"
        },
        {
         "alignmentgroup": "True",
         "box": {
          "visible": false
         },
         "hovertemplate": "Tumor Type=%{x}<br>Patient Age=%{y}<extra></extra>",
         "legendgroup": "Benign",
         "marker": {
          "color": "blue"
         },
         "name": "Benign",
         "offsetgroup": "Benign",
         "orientation": "v",
         "scalegroup": "True",
         "showlegend": true,
         "type": "violin",
         "x": [
          "Benign",
          "Benign",
          "Benign",
          "Benign",
          "Benign",
          "Benign",
          "Benign",
          "Benign",
          "Benign",
          "Benign",
          "Benign",
          "Benign",
          "Benign",
          "Benign",
          "Benign",
          "Benign",
          "Benign",
          "Benign",
          "Benign",
          "Benign",
          "Benign",
          "Benign",
          "Benign",
          "Benign",
          "Benign",
          "Benign",
          "Benign",
          "Benign",
          "Benign",
          "Benign",
          "Benign",
          "Benign",
          "Benign",
          "Benign",
          "Benign",
          "Benign",
          "Benign",
          "Benign",
          "Benign",
          "Benign",
          "Benign",
          "Benign",
          "Benign",
          "Benign",
          "Benign",
          "Benign",
          "Benign",
          "Benign",
          "Benign",
          "Benign",
          "Benign",
          "Benign",
          "Benign",
          "Benign",
          "Benign",
          "Benign",
          "Benign",
          "Benign",
          "Benign",
          "Benign",
          "Benign",
          "Benign",
          "Benign",
          "Benign",
          "Benign",
          "Benign",
          "Benign",
          "Benign",
          "Benign",
          "Benign",
          "Benign",
          "Benign",
          "Benign",
          "Benign",
          "Benign",
          "Benign",
          "Benign",
          "Benign",
          "Benign",
          "Benign",
          "Benign",
          "Benign",
          "Benign",
          "Benign",
          "Benign",
          "Benign",
          "Benign",
          "Benign",
          "Benign",
          "Benign",
          "Benign",
          "Benign",
          "Benign",
          "Benign",
          "Benign",
          "Benign",
          "Benign",
          "Benign",
          "Benign",
          "Benign",
          "Benign",
          "Benign",
          "Benign",
          "Benign",
          "Benign",
          "Benign",
          "Benign",
          "Benign",
          "Benign",
          "Benign",
          "Benign",
          "Benign",
          "Benign",
          "Benign",
          "Benign",
          "Benign",
          "Benign",
          "Benign",
          "Benign",
          "Benign",
          "Benign",
          "Benign",
          "Benign",
          "Benign",
          "Benign",
          "Benign",
          "Benign",
          "Benign",
          "Benign",
          "Benign",
          "Benign",
          "Benign",
          "Benign",
          "Benign",
          "Benign",
          "Benign",
          "Benign",
          "Benign",
          "Benign",
          "Benign",
          "Benign",
          "Benign",
          "Benign",
          "Benign",
          "Benign",
          "Benign",
          "Benign",
          "Benign",
          "Benign",
          "Benign",
          "Benign",
          "Benign",
          "Benign",
          "Benign",
          "Benign",
          "Benign",
          "Benign",
          "Benign",
          "Benign",
          "Benign",
          "Benign",
          "Benign",
          "Benign",
          "Benign",
          "Benign",
          "Benign",
          "Benign",
          "Benign",
          "Benign",
          "Benign",
          "Benign",
          "Benign",
          "Benign",
          "Benign",
          "Benign",
          "Benign",
          "Benign",
          "Benign",
          "Benign",
          "Benign",
          "Benign",
          "Benign",
          "Benign",
          "Benign",
          "Benign",
          "Benign",
          "Benign",
          "Benign",
          "Benign",
          "Benign",
          "Benign",
          "Benign",
          "Benign",
          "Benign",
          "Benign",
          "Benign",
          "Benign",
          "Benign",
          "Benign",
          "Benign",
          "Benign",
          "Benign",
          "Benign",
          "Benign",
          "Benign",
          "Benign",
          "Benign",
          "Benign",
          "Benign",
          "Benign",
          "Benign",
          "Benign",
          "Benign",
          "Benign",
          "Benign",
          "Benign",
          "Benign",
          "Benign",
          "Benign",
          "Benign",
          "Benign",
          "Benign",
          "Benign",
          "Benign",
          "Benign",
          "Benign",
          "Benign",
          "Benign",
          "Benign",
          "Benign",
          "Benign",
          "Benign",
          "Benign",
          "Benign",
          "Benign",
          "Benign",
          "Benign",
          "Benign",
          "Benign",
          "Benign",
          "Benign",
          "Benign",
          "Benign",
          "Benign",
          "Benign",
          "Benign",
          "Benign",
          "Benign",
          "Benign",
          "Benign",
          "Benign",
          "Benign",
          "Benign",
          "Benign",
          "Benign",
          "Benign",
          "Benign",
          "Benign",
          "Benign",
          "Benign",
          "Benign",
          "Benign",
          "Benign",
          "Benign",
          "Benign",
          "Benign",
          "Benign",
          "Benign",
          "Benign",
          "Benign",
          "Benign",
          "Benign",
          "Benign",
          "Benign",
          "Benign",
          "Benign",
          "Benign",
          "Benign",
          "Benign",
          "Benign",
          "Benign",
          "Benign",
          "Benign",
          "Benign",
          "Benign",
          "Benign",
          "Benign",
          "Benign",
          "Benign",
          "Benign",
          "Benign",
          "Benign",
          "Benign",
          "Benign",
          "Benign",
          "Benign",
          "Benign",
          "Benign",
          "Benign",
          "Benign",
          "Benign",
          "Benign",
          "Benign",
          "Benign",
          "Benign",
          "Benign",
          "Benign",
          "Benign",
          "Benign",
          "Benign",
          "Benign",
          "Benign",
          "Benign",
          "Benign",
          "Benign",
          "Benign",
          "Benign",
          "Benign",
          "Benign",
          "Benign",
          "Benign",
          "Benign",
          "Benign",
          "Benign",
          "Benign",
          "Benign",
          "Benign",
          "Benign",
          "Benign",
          "Benign",
          "Benign",
          "Benign",
          "Benign",
          "Benign",
          "Benign",
          "Benign",
          "Benign",
          "Benign",
          "Benign",
          "Benign",
          "Benign",
          "Benign",
          "Benign",
          "Benign",
          "Benign",
          "Benign",
          "Benign",
          "Benign",
          "Benign",
          "Benign",
          "Benign",
          "Benign",
          "Benign",
          "Benign",
          "Benign",
          "Benign",
          "Benign",
          "Benign",
          "Benign",
          "Benign",
          "Benign",
          "Benign",
          "Benign",
          "Benign",
          "Benign",
          "Benign",
          "Benign",
          "Benign",
          "Benign",
          "Benign",
          "Benign",
          "Benign",
          "Benign",
          "Benign",
          "Benign",
          "Benign",
          "Benign",
          "Benign",
          "Benign",
          "Benign",
          "Benign",
          "Benign",
          "Benign",
          "Benign",
          "Benign",
          "Benign",
          "Benign",
          "Benign",
          "Benign",
          "Benign",
          "Benign",
          "Benign",
          "Benign",
          "Benign",
          "Benign",
          "Benign",
          "Benign",
          "Benign",
          "Benign",
          "Benign",
          "Benign",
          "Benign",
          "Benign",
          "Benign",
          "Benign",
          "Benign",
          "Benign",
          "Benign",
          "Benign",
          "Benign",
          "Benign",
          "Benign",
          "Benign",
          "Benign",
          "Benign",
          "Benign",
          "Benign",
          "Benign",
          "Benign",
          "Benign",
          "Benign",
          "Benign",
          "Benign",
          "Benign",
          "Benign",
          "Benign",
          "Benign",
          "Benign",
          "Benign",
          "Benign",
          "Benign",
          "Benign",
          "Benign",
          "Benign",
          "Benign",
          "Benign",
          "Benign",
          "Benign",
          "Benign",
          "Benign",
          "Benign",
          "Benign",
          "Benign",
          "Benign",
          "Benign",
          "Benign",
          "Benign",
          "Benign",
          "Benign",
          "Benign",
          "Benign",
          "Benign",
          "Benign",
          "Benign",
          "Benign",
          "Benign",
          "Benign",
          "Benign",
          "Benign",
          "Benign",
          "Benign",
          "Benign",
          "Benign",
          "Benign",
          "Benign",
          "Benign",
          "Benign",
          "Benign",
          "Benign",
          "Benign",
          "Benign",
          "Benign",
          "Benign",
          "Benign",
          "Benign",
          "Benign",
          "Benign",
          "Benign",
          "Benign",
          "Benign",
          "Benign",
          "Benign",
          "Benign",
          "Benign",
          "Benign",
          "Benign",
          "Benign",
          "Benign",
          "Benign",
          "Benign",
          "Benign",
          "Benign",
          "Benign",
          "Benign",
          "Benign",
          "Benign",
          "Benign",
          "Benign",
          "Benign",
          "Benign",
          "Benign",
          "Benign",
          "Benign",
          "Benign",
          "Benign",
          "Benign",
          "Benign",
          "Benign",
          "Benign",
          "Benign",
          "Benign",
          "Benign",
          "Benign",
          "Benign",
          "Benign",
          "Benign"
         ],
         "x0": " ",
         "xaxis": "x",
         "y": [
          28,
          65,
          70,
          42,
          64,
          36,
          60,
          54,
          52,
          40,
          43,
          66,
          63,
          55,
          46,
          39,
          81,
          77,
          60,
          55,
          59,
          78,
          50,
          61,
          23,
          42,
          74,
          23,
          63,
          43,
          49,
          51,
          45,
          57,
          57,
          25,
          49,
          45,
          64,
          73,
          52,
          25,
          64,
          67,
          67,
          57,
          33,
          36,
          63,
          67,
          60,
          40,
          47,
          62,
          33,
          59,
          65,
          58,
          29,
          58,
          54,
          34,
          57,
          45,
          59,
          56,
          40,
          56,
          45,
          57,
          84,
          43,
          24,
          66,
          33,
          59,
          76,
          40,
          52,
          86,
          60,
          53,
          55,
          48,
          47,
          50,
          41,
          66,
          47,
          34,
          59,
          51,
          62,
          41,
          23,
          53,
          42,
          64,
          21,
          39,
          53,
          44,
          54,
          62,
          45,
          71,
          49,
          66,
          19,
          35,
          67,
          34,
          60,
          50,
          46,
          73,
          55,
          49,
          49,
          48,
          58,
          46,
          52,
          66,
          46,
          69,
          46,
          59,
          57,
          43,
          45,
          43,
          45,
          40,
          55,
          52,
          38,
          72,
          62,
          42,
          60,
          64,
          24,
          63,
          46,
          33,
          36,
          40,
          43,
          42,
          32,
          37,
          76,
          43,
          40,
          49,
          55,
          53,
          76,
          71,
          35,
          63,
          41,
          47,
          73,
          39,
          53,
          43,
          62,
          33,
          71,
          53,
          46,
          57,
          54,
          54,
          49,
          47,
          40,
          45,
          66,
          36,
          69,
          48,
          24,
          79,
          45,
          37,
          42,
          51,
          64,
          59,
          44,
          32,
          62,
          61,
          42,
          45,
          27,
          43,
          36,
          37,
          46,
          41,
          51,
          39,
          46,
          46,
          43,
          45,
          44,
          55,
          49,
          45,
          66,
          72,
          64,
          49,
          44,
          77,
          49,
          34,
          53,
          46,
          58,
          46,
          67,
          69,
          65,
          62,
          35,
          26,
          48,
          31,
          72,
          56,
          37,
          39,
          38,
          33,
          72,
          29,
          35,
          57,
          50,
          32,
          40,
          31,
          64,
          18,
          50,
          53,
          32,
          38,
          63,
          61,
          52,
          36,
          41,
          59,
          36,
          49,
          37,
          46,
          63,
          28,
          47,
          49,
          54,
          50,
          45,
          28,
          31,
          41,
          21,
          38,
          60,
          21,
          50,
          23,
          68,
          38,
          57,
          56,
          49,
          55,
          44,
          58,
          27,
          34,
          62,
          21,
          49,
          36,
          21,
          57,
          27,
          38,
          23,
          46,
          61,
          60,
          59,
          53,
          76,
          61,
          56,
          44,
          66,
          50,
          46,
          39,
          60,
          40,
          26,
          41,
          63,
          65,
          49,
          65,
          54,
          36,
          49,
          59,
          53,
          57,
          77,
          59,
          54,
          56,
          55,
          44,
          66,
          69,
          39,
          45,
          51,
          56,
          66,
          57,
          57,
          44,
          31,
          63,
          64,
          47,
          30,
          56,
          46,
          67,
          47,
          28,
          43,
          57,
          64,
          64,
          38,
          41,
          68,
          51,
          40,
          51,
          27,
          54,
          56,
          54,
          24,
          52,
          50,
          35,
          56,
          72,
          22,
          73,
          53,
          46,
          55,
          60,
          57,
          41,
          32,
          57,
          19,
          50,
          65,
          40,
          68,
          29,
          53,
          60,
          58,
          34,
          59,
          59,
          21,
          43,
          53,
          65,
          53,
          51,
          59,
          56,
          60,
          22,
          25,
          76,
          58,
          56,
          64,
          32,
          52,
          63,
          35,
          38,
          53,
          67,
          54,
          35,
          68,
          39,
          44,
          33,
          60,
          58,
          31,
          23,
          63,
          44,
          56,
          52,
          42,
          46,
          66,
          31,
          53,
          64,
          56,
          67,
          59,
          76,
          63,
          44,
          42,
          35,
          70,
          48,
          63,
          27,
          51,
          66,
          42,
          41,
          50,
          30,
          67,
          46,
          35,
          53,
          59,
          19,
          72,
          37,
          45,
          48,
          42,
          47,
          34,
          39,
          23,
          19,
          57,
          62,
          69,
          41,
          51,
          47,
          30,
          50,
          45,
          41,
          60,
          55,
          42,
          46,
          65,
          45,
          35,
          57,
          59,
          51,
          35,
          42,
          43,
          27,
          59,
          20,
          22,
          57,
          55,
          62,
          54,
          65,
          68,
          64,
          54,
          58,
          70,
          59,
          57,
          53,
          53,
          56,
          35,
          47,
          64,
          62
         ],
         "y0": " ",
         "yaxis": "y"
        }
       ],
       "layout": {
        "legend": {
         "title": {
          "text": "Tumor Type"
         },
         "tracegroupgap": 0
        },
        "template": {
         "data": {
          "bar": [
           {
            "error_x": {
             "color": "#2a3f5f"
            },
            "error_y": {
             "color": "#2a3f5f"
            },
            "marker": {
             "line": {
              "color": "#E5ECF6",
              "width": 0.5
             },
             "pattern": {
              "fillmode": "overlay",
              "size": 10,
              "solidity": 0.2
             }
            },
            "type": "bar"
           }
          ],
          "barpolar": [
           {
            "marker": {
             "line": {
              "color": "#E5ECF6",
              "width": 0.5
             },
             "pattern": {
              "fillmode": "overlay",
              "size": 10,
              "solidity": 0.2
             }
            },
            "type": "barpolar"
           }
          ],
          "carpet": [
           {
            "aaxis": {
             "endlinecolor": "#2a3f5f",
             "gridcolor": "white",
             "linecolor": "white",
             "minorgridcolor": "white",
             "startlinecolor": "#2a3f5f"
            },
            "baxis": {
             "endlinecolor": "#2a3f5f",
             "gridcolor": "white",
             "linecolor": "white",
             "minorgridcolor": "white",
             "startlinecolor": "#2a3f5f"
            },
            "type": "carpet"
           }
          ],
          "choropleth": [
           {
            "colorbar": {
             "outlinewidth": 0,
             "ticks": ""
            },
            "type": "choropleth"
           }
          ],
          "contour": [
           {
            "colorbar": {
             "outlinewidth": 0,
             "ticks": ""
            },
            "colorscale": [
             [
              0,
              "#0d0887"
             ],
             [
              0.1111111111111111,
              "#46039f"
             ],
             [
              0.2222222222222222,
              "#7201a8"
             ],
             [
              0.3333333333333333,
              "#9c179e"
             ],
             [
              0.4444444444444444,
              "#bd3786"
             ],
             [
              0.5555555555555556,
              "#d8576b"
             ],
             [
              0.6666666666666666,
              "#ed7953"
             ],
             [
              0.7777777777777778,
              "#fb9f3a"
             ],
             [
              0.8888888888888888,
              "#fdca26"
             ],
             [
              1,
              "#f0f921"
             ]
            ],
            "type": "contour"
           }
          ],
          "contourcarpet": [
           {
            "colorbar": {
             "outlinewidth": 0,
             "ticks": ""
            },
            "type": "contourcarpet"
           }
          ],
          "heatmap": [
           {
            "colorbar": {
             "outlinewidth": 0,
             "ticks": ""
            },
            "colorscale": [
             [
              0,
              "#0d0887"
             ],
             [
              0.1111111111111111,
              "#46039f"
             ],
             [
              0.2222222222222222,
              "#7201a8"
             ],
             [
              0.3333333333333333,
              "#9c179e"
             ],
             [
              0.4444444444444444,
              "#bd3786"
             ],
             [
              0.5555555555555556,
              "#d8576b"
             ],
             [
              0.6666666666666666,
              "#ed7953"
             ],
             [
              0.7777777777777778,
              "#fb9f3a"
             ],
             [
              0.8888888888888888,
              "#fdca26"
             ],
             [
              1,
              "#f0f921"
             ]
            ],
            "type": "heatmap"
           }
          ],
          "heatmapgl": [
           {
            "colorbar": {
             "outlinewidth": 0,
             "ticks": ""
            },
            "colorscale": [
             [
              0,
              "#0d0887"
             ],
             [
              0.1111111111111111,
              "#46039f"
             ],
             [
              0.2222222222222222,
              "#7201a8"
             ],
             [
              0.3333333333333333,
              "#9c179e"
             ],
             [
              0.4444444444444444,
              "#bd3786"
             ],
             [
              0.5555555555555556,
              "#d8576b"
             ],
             [
              0.6666666666666666,
              "#ed7953"
             ],
             [
              0.7777777777777778,
              "#fb9f3a"
             ],
             [
              0.8888888888888888,
              "#fdca26"
             ],
             [
              1,
              "#f0f921"
             ]
            ],
            "type": "heatmapgl"
           }
          ],
          "histogram": [
           {
            "marker": {
             "pattern": {
              "fillmode": "overlay",
              "size": 10,
              "solidity": 0.2
             }
            },
            "type": "histogram"
           }
          ],
          "histogram2d": [
           {
            "colorbar": {
             "outlinewidth": 0,
             "ticks": ""
            },
            "colorscale": [
             [
              0,
              "#0d0887"
             ],
             [
              0.1111111111111111,
              "#46039f"
             ],
             [
              0.2222222222222222,
              "#7201a8"
             ],
             [
              0.3333333333333333,
              "#9c179e"
             ],
             [
              0.4444444444444444,
              "#bd3786"
             ],
             [
              0.5555555555555556,
              "#d8576b"
             ],
             [
              0.6666666666666666,
              "#ed7953"
             ],
             [
              0.7777777777777778,
              "#fb9f3a"
             ],
             [
              0.8888888888888888,
              "#fdca26"
             ],
             [
              1,
              "#f0f921"
             ]
            ],
            "type": "histogram2d"
           }
          ],
          "histogram2dcontour": [
           {
            "colorbar": {
             "outlinewidth": 0,
             "ticks": ""
            },
            "colorscale": [
             [
              0,
              "#0d0887"
             ],
             [
              0.1111111111111111,
              "#46039f"
             ],
             [
              0.2222222222222222,
              "#7201a8"
             ],
             [
              0.3333333333333333,
              "#9c179e"
             ],
             [
              0.4444444444444444,
              "#bd3786"
             ],
             [
              0.5555555555555556,
              "#d8576b"
             ],
             [
              0.6666666666666666,
              "#ed7953"
             ],
             [
              0.7777777777777778,
              "#fb9f3a"
             ],
             [
              0.8888888888888888,
              "#fdca26"
             ],
             [
              1,
              "#f0f921"
             ]
            ],
            "type": "histogram2dcontour"
           }
          ],
          "mesh3d": [
           {
            "colorbar": {
             "outlinewidth": 0,
             "ticks": ""
            },
            "type": "mesh3d"
           }
          ],
          "parcoords": [
           {
            "line": {
             "colorbar": {
              "outlinewidth": 0,
              "ticks": ""
             }
            },
            "type": "parcoords"
           }
          ],
          "pie": [
           {
            "automargin": true,
            "type": "pie"
           }
          ],
          "scatter": [
           {
            "fillpattern": {
             "fillmode": "overlay",
             "size": 10,
             "solidity": 0.2
            },
            "type": "scatter"
           }
          ],
          "scatter3d": [
           {
            "line": {
             "colorbar": {
              "outlinewidth": 0,
              "ticks": ""
             }
            },
            "marker": {
             "colorbar": {
              "outlinewidth": 0,
              "ticks": ""
             }
            },
            "type": "scatter3d"
           }
          ],
          "scattercarpet": [
           {
            "marker": {
             "colorbar": {
              "outlinewidth": 0,
              "ticks": ""
             }
            },
            "type": "scattercarpet"
           }
          ],
          "scattergeo": [
           {
            "marker": {
             "colorbar": {
              "outlinewidth": 0,
              "ticks": ""
             }
            },
            "type": "scattergeo"
           }
          ],
          "scattergl": [
           {
            "marker": {
             "colorbar": {
              "outlinewidth": 0,
              "ticks": ""
             }
            },
            "type": "scattergl"
           }
          ],
          "scattermapbox": [
           {
            "marker": {
             "colorbar": {
              "outlinewidth": 0,
              "ticks": ""
             }
            },
            "type": "scattermapbox"
           }
          ],
          "scatterpolar": [
           {
            "marker": {
             "colorbar": {
              "outlinewidth": 0,
              "ticks": ""
             }
            },
            "type": "scatterpolar"
           }
          ],
          "scatterpolargl": [
           {
            "marker": {
             "colorbar": {
              "outlinewidth": 0,
              "ticks": ""
             }
            },
            "type": "scatterpolargl"
           }
          ],
          "scatterternary": [
           {
            "marker": {
             "colorbar": {
              "outlinewidth": 0,
              "ticks": ""
             }
            },
            "type": "scatterternary"
           }
          ],
          "surface": [
           {
            "colorbar": {
             "outlinewidth": 0,
             "ticks": ""
            },
            "colorscale": [
             [
              0,
              "#0d0887"
             ],
             [
              0.1111111111111111,
              "#46039f"
             ],
             [
              0.2222222222222222,
              "#7201a8"
             ],
             [
              0.3333333333333333,
              "#9c179e"
             ],
             [
              0.4444444444444444,
              "#bd3786"
             ],
             [
              0.5555555555555556,
              "#d8576b"
             ],
             [
              0.6666666666666666,
              "#ed7953"
             ],
             [
              0.7777777777777778,
              "#fb9f3a"
             ],
             [
              0.8888888888888888,
              "#fdca26"
             ],
             [
              1,
              "#f0f921"
             ]
            ],
            "type": "surface"
           }
          ],
          "table": [
           {
            "cells": {
             "fill": {
              "color": "#EBF0F8"
             },
             "line": {
              "color": "white"
             }
            },
            "header": {
             "fill": {
              "color": "#C8D4E3"
             },
             "line": {
              "color": "white"
             }
            },
            "type": "table"
           }
          ]
         },
         "layout": {
          "annotationdefaults": {
           "arrowcolor": "#2a3f5f",
           "arrowhead": 0,
           "arrowwidth": 1
          },
          "autotypenumbers": "strict",
          "coloraxis": {
           "colorbar": {
            "outlinewidth": 0,
            "ticks": ""
           }
          },
          "colorscale": {
           "diverging": [
            [
             0,
             "#8e0152"
            ],
            [
             0.1,
             "#c51b7d"
            ],
            [
             0.2,
             "#de77ae"
            ],
            [
             0.3,
             "#f1b6da"
            ],
            [
             0.4,
             "#fde0ef"
            ],
            [
             0.5,
             "#f7f7f7"
            ],
            [
             0.6,
             "#e6f5d0"
            ],
            [
             0.7,
             "#b8e186"
            ],
            [
             0.8,
             "#7fbc41"
            ],
            [
             0.9,
             "#4d9221"
            ],
            [
             1,
             "#276419"
            ]
           ],
           "sequential": [
            [
             0,
             "#0d0887"
            ],
            [
             0.1111111111111111,
             "#46039f"
            ],
            [
             0.2222222222222222,
             "#7201a8"
            ],
            [
             0.3333333333333333,
             "#9c179e"
            ],
            [
             0.4444444444444444,
             "#bd3786"
            ],
            [
             0.5555555555555556,
             "#d8576b"
            ],
            [
             0.6666666666666666,
             "#ed7953"
            ],
            [
             0.7777777777777778,
             "#fb9f3a"
            ],
            [
             0.8888888888888888,
             "#fdca26"
            ],
            [
             1,
             "#f0f921"
            ]
           ],
           "sequentialminus": [
            [
             0,
             "#0d0887"
            ],
            [
             0.1111111111111111,
             "#46039f"
            ],
            [
             0.2222222222222222,
             "#7201a8"
            ],
            [
             0.3333333333333333,
             "#9c179e"
            ],
            [
             0.4444444444444444,
             "#bd3786"
            ],
            [
             0.5555555555555556,
             "#d8576b"
            ],
            [
             0.6666666666666666,
             "#ed7953"
            ],
            [
             0.7777777777777778,
             "#fb9f3a"
            ],
            [
             0.8888888888888888,
             "#fdca26"
            ],
            [
             1,
             "#f0f921"
            ]
           ]
          },
          "colorway": [
           "#636efa",
           "#EF553B",
           "#00cc96",
           "#ab63fa",
           "#FFA15A",
           "#19d3f3",
           "#FF6692",
           "#B6E880",
           "#FF97FF",
           "#FECB52"
          ],
          "font": {
           "color": "#2a3f5f"
          },
          "geo": {
           "bgcolor": "white",
           "lakecolor": "white",
           "landcolor": "#E5ECF6",
           "showlakes": true,
           "showland": true,
           "subunitcolor": "white"
          },
          "hoverlabel": {
           "align": "left"
          },
          "hovermode": "closest",
          "mapbox": {
           "style": "light"
          },
          "paper_bgcolor": "white",
          "plot_bgcolor": "#E5ECF6",
          "polar": {
           "angularaxis": {
            "gridcolor": "white",
            "linecolor": "white",
            "ticks": ""
           },
           "bgcolor": "#E5ECF6",
           "radialaxis": {
            "gridcolor": "white",
            "linecolor": "white",
            "ticks": ""
           }
          },
          "scene": {
           "xaxis": {
            "backgroundcolor": "#E5ECF6",
            "gridcolor": "white",
            "gridwidth": 2,
            "linecolor": "white",
            "showbackground": true,
            "ticks": "",
            "zerolinecolor": "white"
           },
           "yaxis": {
            "backgroundcolor": "#E5ECF6",
            "gridcolor": "white",
            "gridwidth": 2,
            "linecolor": "white",
            "showbackground": true,
            "ticks": "",
            "zerolinecolor": "white"
           },
           "zaxis": {
            "backgroundcolor": "#E5ECF6",
            "gridcolor": "white",
            "gridwidth": 2,
            "linecolor": "white",
            "showbackground": true,
            "ticks": "",
            "zerolinecolor": "white"
           }
          },
          "shapedefaults": {
           "line": {
            "color": "#2a3f5f"
           }
          },
          "ternary": {
           "aaxis": {
            "gridcolor": "white",
            "linecolor": "white",
            "ticks": ""
           },
           "baxis": {
            "gridcolor": "white",
            "linecolor": "white",
            "ticks": ""
           },
           "bgcolor": "#E5ECF6",
           "caxis": {
            "gridcolor": "white",
            "linecolor": "white",
            "ticks": ""
           }
          },
          "title": {
           "x": 0.05
          },
          "xaxis": {
           "automargin": true,
           "gridcolor": "white",
           "linecolor": "white",
           "ticks": "",
           "title": {
            "standoff": 15
           },
           "zerolinecolor": "white",
           "zerolinewidth": 2
          },
          "yaxis": {
           "automargin": true,
           "gridcolor": "white",
           "linecolor": "white",
           "ticks": "",
           "title": {
            "standoff": 15
           },
           "zerolinecolor": "white",
           "zerolinewidth": 2
          }
         }
        },
        "title": {
         "text": "Violin Plot: Age Distribution for Benign vs Malignant Tumors"
        },
        "violinmode": "overlay",
        "xaxis": {
         "anchor": "y",
         "categoryarray": [
          "Malignant",
          "Benign"
         ],
         "categoryorder": "array",
         "domain": [
          0,
          1
         ],
         "title": {
          "text": "Tumor Type"
         }
        },
        "yaxis": {
         "anchor": "x",
         "domain": [
          0,
          1
         ],
         "title": {
          "text": "Patient Age"
         }
        }
       }
      }
     },
     "metadata": {},
     "output_type": "display_data"
    }
   ],
   "source": [
    "\n",
    "\n",
    "# TASK 2 : Plotting data\n",
    "#2.1 describing the data, these two functions allow a general sense of the type of data and provide a count for the benign and malignant cases\n",
    "print(DATA.describe())\n",
    "print(DATA['Severity'].value_counts())\n",
    "\n",
    "#Creating heatmap for features that aren't nominal\n",
    "data_subset = DATA[[\"BA\", \"Age\", \"Density\", \"Severity\"]]\n",
    "\n",
    "# Display the margins where the severity is 1, using the loc function\n",
    "severity_margins = DATA.loc[DATA['Severity'] == 1, 'Margin']\n",
    "\n",
    "print(severity_margins)\n",
    "\n",
    "\n",
    "\n",
    "\n",
    "corr_matrix = data_subset.corr()\n",
    "\n",
    "fig = px.imshow(corr_matrix, \n",
    "                labels=dict(x=\"Features\", y=\"Features\", color=\"Correlation\"),\n",
    "                x=corr_matrix.columns,\n",
    "                y=corr_matrix.columns,\n",
    "                color_continuous_scale='RdBu',\n",
    "                zmin=-1, zmax=1, text_auto = True,\n",
    "                title = \"Correlation Heatmap of All Ordinal/Numerical Features\")\n",
    "\n",
    "fig.show()\n",
    "\n",
    "# Use the .map function to create a severity column with appropriate names, which helps to make the box plot more understandable\n",
    "DATA['Severity_Label'] = DATA['Severity'].map({0: 'Benign', 1: 'Malignant'})\n",
    "fig2 = px.box(DATA, x='Severity_Label', y='Age', color='Severity_Label',\n",
    "             title=\"Box Plot of Age by Severity of Tumor (Benign vs Malignant)\",\n",
    "             labels={\"Severity_Label\": \"Tumor Severity\", \"Age\": \"Patient Age\"},\n",
    "                color_discrete_map={'Benign': 'blue', 'Malignant': 'red'})\n",
    "fig2.show()\n",
    "\n",
    "\n",
    "# Create a box plot using age and BIRADS assessment\n",
    "DATA['BA_Label'] = DATA['BA'].map({0: 'No Data', 1: 1, 2:2, 3:3, 4:4, 5:5, 6:6})\n",
    "fig3 = px.box(DATA, x='BA_Label', y='Age',\n",
    "                 title=\"Box Plot of Age vs BI-RADS\",\n",
    "                 labels={ \"Age\": \"Patient Age\", \"BA_Label\": \"BI-RADS Assessment\"})\n",
    "\n",
    "fig3.show()\n",
    "\n",
    "fig4 = px.violin(DATA, y='Age', x='Severity_Label', \n",
    "                title=\"Violin Plot: Age Distribution for Benign vs Malignant Tumors\",\n",
    "                labels={\"Severity_Label\": \"Tumor Type\", \"Age\": \"Patient Age\"},\n",
    "                color='Severity_Label', \n",
    "                color_discrete_map={'Benign': 'blue', 'Malignant': 'red'})\n",
    "\n",
    "# Show the plot\n",
    "fig4.show()"
   ]
  },
  {
   "cell_type": "code",
   "execution_count": 9,
   "metadata": {},
   "outputs": [
    {
     "name": "stderr",
     "output_type": "stream",
     "text": [
      "C:\\Users\\User\\AppData\\Local\\Temp\\ipykernel_12612\\1567539238.py:21: FutureWarning:\n",
      "\n",
      "A value is trying to be set on a copy of a DataFrame or Series through chained assignment using an inplace method.\n",
      "The behavior will change in pandas 3.0. This inplace method will never work because the intermediate object on which we are setting values always behaves as a copy.\n",
      "\n",
      "For example, when doing 'df[col].method(value, inplace=True)', try using 'df.method({col: value}, inplace=True)' or df[col] = df[col].method(value) instead, to perform the operation inplace on the original object.\n",
      "\n",
      "\n",
      "\n",
      "C:\\Users\\User\\AppData\\Local\\Temp\\ipykernel_12612\\1567539238.py:21: FutureWarning:\n",
      "\n",
      "Series.interpolate with object dtype is deprecated and will raise in a future version. Call obj.infer_objects(copy=False) before interpolating instead.\n",
      "\n"
     ]
    },
    {
     "data": {
      "image/png": "[encoded data removed]",
      "text/plain": [
       "<Figure size 640x480 with 4 Axes>"
      ]
     },
     "metadata": {},
     "output_type": "display_data"
    },
    {
     "data": {
      "image/png": "[encoded data removed]",
      "text/plain": [
       "<Figure size 1000x600 with 1 Axes>"
      ]
     },
     "metadata": {},
     "output_type": "display_data"
    },
    {
     "data": {
      "image/png": "[encoded data removed]",
      "text/plain": [
       "<Figure size 1000x600 with 1 Axes>"
      ]
     },
     "metadata": {},
     "output_type": "display_data"
    },
    {
     "data": {
      "image/png": "[encoded data removed]",
      "text/plain": [
       "<Figure size 1000x600 with 1 Axes>"
      ]
     },
     "metadata": {},
     "output_type": "display_data"
    },
    {
     "data": {
      "image/png": "[encoded data removed]",
      "text/plain": [
       "<Figure size 1000x600 with 1 Axes>"
      ]
     },
     "metadata": {},
     "output_type": "display_data"
    }
   ],
   "source": [
    "# TASK 3 : data preprocessing\n",
    "interpolateDATA = DATA.copy()\n",
    "\n",
    "\n",
    "# TASK 3.1\n",
    "fig, plot = plt.subplots(1, 4)\n",
    "plot[0].hist(interpolateDATA[\"Age\"])\n",
    "plot[0].set_title(\"(original)\")\n",
    "plot[0].set_xlabel(\"Age\")\n",
    "\n",
    "dropMissing = DATA.dropna()\n",
    "\n",
    "\n",
    "plot[1].hist(dropMissing[\"Age\"])\n",
    "plot[1].set_title(\"(Drop Missing)\")\n",
    "plot[1].set_xlabel(\"Age\")\n",
    "\n",
    "\n",
    "# CLEANING : fill missing values using the most probable value using linear interpolation\n",
    "for columns in interpolateDATA.columns.to_list():\n",
    "    interpolateDATA[columns].interpolate(method='linear', inplace=True)\n",
    "    interpolateDATA[columns] = interpolateDATA[columns].round()\n",
    "\n",
    "\n",
    "plot[2].hist(interpolateDATA[\"Age\"])\n",
    "plot[2].set_title(\"(Interpolated)\")\n",
    "plot[2].set_xlabel(\"Age\")\n",
    "\n",
    "\n",
    "normalizeDATA = interpolateDATA.copy()\n",
    "# TASK 3.2\n",
    "# NORMALIZATION : min-max normalization on the Age column\n",
    "normalizeDATA['Age'] = (normalizeDATA['Age'] - normalizeDATA['Age'].min()) / (normalizeDATA['Age'].max() - normalizeDATA['Age'].min()) \n",
    "# we could also use normalization on ordinal parameters such as BA and Density\n",
    "do_normalize_ordinal = True\n",
    "for column in [\"Density\"]:\n",
    "    if do_normalize_ordinal: normalizeDATA[column] = (normalizeDATA[column] - normalizeDATA[column].min()) /(normalizeDATA[column].max() - normalizeDATA[column].min())\n",
    "\n",
    "plot[3].hist(normalizeDATA[\"Age\"])\n",
    "plot[3].set_title(\"(Normalized)\")\n",
    "plot[3].set_xlabel(\"Age\")\n",
    "\n",
    "plt.tight_layout()\n",
    "plt.show()\n",
    "\n",
    "plt.figure(figsize=(10, 6))\n",
    "plt.scatter(DATA['Shape'], DATA['Age'], alpha=0.7, edgecolors='w', s=100)\n",
    "plt.title('Scatter Plot of Age vs. Shape (Original Data)')\n",
    "plt.xlabel('Shape')\n",
    "plt.ylabel('Age')\n",
    "plt.grid(True)\n",
    "plt.show()\n",
    "\n",
    "plt.figure(figsize=(10, 6))\n",
    "plt.scatter(dropMissing['Shape'], dropMissing['Age'], alpha=0.7, edgecolors='w', s=100)\n",
    "plt.title('Scatter Plot of Age vs. Shape (Dropped Missing)')\n",
    "plt.xlabel('Shape')\n",
    "plt.ylabel('Age')\n",
    "plt.grid(True)\n",
    "plt.show()\n",
    "\n",
    "plt.figure(figsize=(10, 6))\n",
    "plt.scatter(interpolateDATA['Shape'], interpolateDATA['Age'], alpha=0.7, edgecolors='w', s=100)\n",
    "plt.title('Scatter Plot of Age vs. Shape (Interpolated Missing)')\n",
    "plt.xlabel('Shape')\n",
    "plt.ylabel('Age')\n",
    "plt.grid(True)\n",
    "plt.show()\n",
    "\n",
    "plt.figure(figsize=(10, 6))\n",
    "plt.scatter(normalizeDATA['Shape'], normalizeDATA['Age'], alpha=0.7, edgecolors='w', s=100)\n",
    "plt.title('Scatter Plot of Age vs. Shape (Normalized Data)')\n",
    "plt.xlabel('Shape')\n",
    "plt.ylabel('Age')\n",
    "plt.grid(True)\n",
    "plt.show()"
   ]
  },
  {
   "cell_type": "code",
   "execution_count": 10,
   "metadata": {},
   "outputs": [
    {
     "name": "stdout",
     "output_type": "stream",
     "text": [
      "Index(['Shape', 'Margin', 'Severity'], dtype='object')\n",
      "[[3. 5. 1.]\n",
      " [1. 1. 1.]\n",
      " [4. 5. 1.]\n",
      " ...\n",
      " [4. 5. 0.]\n",
      " [4. 5. 1.]\n",
      " [3. 3. 0.]]\n",
      "Scores for each feature: [ 27.0155508   59.05384755  69.38456957   2.11404797 115.17110288]\n"
     ]
    },
    {
     "data": {
      "image/png": "[encoded data removed]",
      "text/plain": [
       "<Figure size 800x600 with 2 Axes>"
      ]
     },
     "metadata": {},
     "output_type": "display_data"
    },
    {
     "data": {
      "image/png": "[encoded data removed]",
      "text/plain": [
       "<Figure size 800x600 with 1 Axes>"
      ]
     },
     "metadata": {},
     "output_type": "display_data"
    }
   ],
   "source": [
    "import numpy as np\n",
    "# TASK 4 : data feature engineering (//nog niet klaar)\n",
    "cDATA = normalizeDATA.copy()\n",
    "# TASK 4.1\n",
    "# AUTOMATIC FEATURE SELECTION : using univariate feature selection (for a classification problem)\n",
    "y = cDATA[\"BA\"]\n",
    "features = [\"Age\", \"Shape\", \"Margin\", \"Density\", \"Severity\"]\n",
    "x = cDATA[features]\n",
    "\n",
    "make_selection = SelectKBest(score_func=f_classif, k=3)\n",
    "selected_x = make_selection.fit_transform(x, y)\n",
    "\n",
    "selected_feature_mask = x.columns[make_selection.get_support()]\n",
    "\n",
    "# What features got selected\n",
    "print(selected_feature_mask)\n",
    "\n",
    "# New table with selected features\n",
    "print(selected_x)\n",
    "\n",
    "# Scores of the features\n",
    "print(\"Scores for each feature:\", make_selection.scores_)\n",
    "\n",
    "\n",
    "# TASK 4.2 \n",
    "# PCA Dimensionality Reduction \n",
    "pca = sk.decomposition.PCA(n_components=3)\n",
    "\n",
    "x_pca = pca.fit_transform(x)\n",
    "\n",
    "\n",
    "plt.figure(figsize=(8,6))\n",
    "plt.scatter(x_pca[:, 0], x_pca[:, 1], c=y, cmap='viridis', edgecolor='k', s=100)\n",
    "plt.xlabel('First principal component')\n",
    "plt.ylabel('Second principal component')\n",
    "plt.title('PCA of Mammographic Masses Dataset')\n",
    "plt.colorbar()\n",
    "plt.show()\n",
    "\n",
    "\n",
    "# TASK 4.3\n",
    "# Truncated SVD\n",
    "\n",
    "svd = sk.decomposition.TruncatedSVD(n_components=3)\n",
    "x_svd = svd.fit_transform(x)\n",
    "\n",
    "explained_variance = svd.explained_variance_ratio_\n",
    "plt.figure(figsize=(8,6))\n",
    "plt.plot(np.cumsum(explained_variance), marker='o', linestyle='-', color='r')\n",
    "plt.xlabel('Number of components')\n",
    "plt.ylabel('Cumulative explained variance')\n",
    "plt.title('Explained variance vs Number of components')\n",
    "plt.grid(True)\n",
    "plt.show()"
   ]
  },
  {
   "cell_type": "code",
   "execution_count": null,
   "metadata": {},
   "outputs": [],
   "source": []
  }
 ],
 "metadata": {
  "kernelspec": {
   "display_name": "Python 3",
   "language": "python",
   "name": "python3"
  },
  "language_info": {
   "codemirror_mode": {
    "name": "ipython",
    "version": 3
   },
   "file_extension": ".py",
   "mimetype": "text/x-python",
   "name": "python",
   "nbconvert_exporter": "python",
   "pygments_lexer": "ipython3",
   "version": "3.11.9"
  }
 },
 "nbformat": 4,
 "nbformat_minor": 2
}
